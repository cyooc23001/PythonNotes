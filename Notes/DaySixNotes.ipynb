{
 "cells": [
  {
   "cell_type": "code",
   "execution_count": null,
   "metadata": {},
   "outputs": [],
   "source": []
  },
  {
   "cell_type": "markdown",
   "metadata": {},
   "source": [
    "## Binary Data and Bitwise Operations\n",
    "Binary Data is just ones and zeroes. Binary is really simple.\n",
    "\n",
    "Binary = Base 2\n",
    "Octal = Base 8 (IDK why to use this)\n",
    "Decimal = Base 10\n",
    "Hexadecimal = Base 18\n",
    "\n",
    "Here's an example: \n",
    "\n",
    "I am 69 inches tall. That's in base 10. I am 69<sub>10</sub> = 6 * 10<sup>1</sup> + 9 * 10<sup>0</sup> = 69 inches tall.\n",
    "\n",
    "In binary = base 2, I am 1000101<sub>2</sub> = 1 * 2<sup>6</sup> + 0 * 2<sup>5</sup> + 0 * 2<sup>4</sup> + 0 * 2<sup>3</sup> + 1 * 2<sup>2</sup> + 0 * 2<sup>1</sup> + 1 * 2<sup>0</sup> = 69 inches tall\n",
    "\n",
    "Notice that:\n",
    "* 2<sup>0</sup> = 1\n",
    "* 2<sup>1</sup> = 2\n",
    "* 2<sup>2</sup> = 4\n",
    "* 2<sup>3</sup> = 8\n",
    ".....\n",
    "* 2<sup>6</sup> = 64\n",
    "\n",
    "In hexadecimal = base 16, I am 45<sub>16</sub> = 4 * 16<sup>1</sup> + 5<sup>1</sup> = 69 inches tall,\n",
    "Notice that:\n",
    "* 16<sup>0</sup> = 1 \n",
    "* 16<sup>1</sup> = 16\n",
    "* 16<sup>2</sup> = 256\n",
    "\n"
   ]
  },
  {
   "cell_type": "code",
   "execution_count": 8,
   "metadata": {},
   "outputs": [
    {
     "name": "stdout",
     "output_type": "stream",
     "text": [
      "Hex form: 0x48, <class 'str'>\n",
      "Oct form: 0o110\n",
      "Chr form: H\n",
      "Bin form: 0b1001000\n"
     ]
    }
   ],
   "source": [
    "## Use hex(), oct(), and bin() to convert between the three most common number systems.\n",
    "\n",
    "a = hex(72)\n",
    "b = oct(72)\n",
    "c = chr(72)\n",
    "d = bin(72)\n",
    "\n",
    "print(f\"Hex form: {a}, {type(a)}\") \n",
    "print(f\"Oct form: {b}\") ## 0o means Octal form. Base 8. I've never used this.... (I guess useful for Linux file permissions)\n",
    "print(f\"Chr form: {c}\")\n",
    "print(f\"Bin form: {d}\")"
   ]
  },
  {
   "cell_type": "code",
   "execution_count": 5,
   "metadata": {},
   "outputs": [
    {
     "name": "stdout",
     "output_type": "stream",
     "text": [
      "Int version from bin: 45\n",
      "Int version from hex: 44630\n"
     ]
    }
   ],
   "source": [
    "## Convert a binary number in string form to a base 10 integer\n",
    "int_form_from_bin = int(\"0b101101\", base=2) ## base=2 tells Python hey the string I'm giving you is in base 2\n",
    "print(\"Int version from bin:\", int_form_from_bin)\n",
    "\n",
    "## Convert a hex number in string form to a base 10 integer\n",
    "int_form_from_hex = int(\"0xae56\", base=16)\n",
    "print(\"Int version from hex:\", int_form_from_hex)"
   ]
  },
  {
   "cell_type": "code",
   "execution_count": 7,
   "metadata": {},
   "outputs": [
    {
     "name": "stdout",
     "output_type": "stream",
     "text": [
      "Int version from bin: 365\n",
      "Int version from hex: 182838630\n"
     ]
    }
   ],
   "source": [
    "## Convert a binary number in \"int\" form to a base 10 integer\n",
    "int_form_from_bin = int(0b101101101) ## No use of base 2 needed, Python knows this is binary (see the VS Code highlighted 0b)\n",
    "print(\"Int version from bin:\", int_form_from_bin)\n",
    "\n",
    "## Convert a hex number in \"int\" form to a base 10 integer\n",
    "int_form_from_hex = int(0xae5e566) ## Again Python knows this is hex -- see the highlighted 0x\n",
    "print(\"Int version from hex:\", int_form_from_hex)"
   ]
  },
  {
   "cell_type": "markdown",
   "metadata": {},
   "source": [
    "#### Logic!! Easy Day!\n",
    "See below for the binary truth tables. They may help make it easier to understand. Words too:\n",
    "* AND: means both have to be 1 for the result to be 1\n",
    "* OR: either one or the other (or both) must be 1 for the result to be 1\n",
    "* XOR: either one or the other (NOT both) must be 1 for the result to be 1\n",
    "\n",
    "![](Resources/bin_truth_tables.svg)\n"
   ]
  },
  {
   "cell_type": "code",
   "execution_count": 18,
   "metadata": {},
   "outputs": [
    {
     "name": "stdout",
     "output_type": "stream",
     "text": [
      "ORing\n",
      "a: \t\t10110110\n",
      "b: \t\t01111010\n",
      "ORed version: \t11111110\n",
      "\n",
      "ANDing\n",
      "a: \t\t10110110\n",
      "b: \t\t01111010\n",
      "ANDed version: \t00110010\n",
      "\n",
      "XORing\n",
      "a: \t\t10110110\n",
      "b: \t\t01111010\n",
      "XORed version: \t11001100\n"
     ]
    }
   ],
   "source": [
    "## In Python, | is OR\n",
    "a = 0b10110110\n",
    "b = 0b01111010\n",
    "\n",
    "print(\"ORing\")\n",
    "print(f\"a: \\t\\t{a:08b}\")\n",
    "print(f\"b: \\t\\t{b:08b}\")\n",
    "ored = a | b\n",
    "print(f\"ORed version: \\t{(ored):08b}\")\n",
    "\n",
    "print()\n",
    "print(\"ANDing\")\n",
    "print(f\"a: \\t\\t{a:08b}\")\n",
    "print(f\"b: \\t\\t{b:08b}\")\n",
    "anded = a & b\n",
    "print(f\"ANDed version: \\t{(anded):08b}\")\n",
    "\n",
    "print()\n",
    "print(\"XORing\")\n",
    "print(f\"a: \\t\\t{a:08b}\")\n",
    "print(f\"b: \\t\\t{b:08b}\")\n",
    "xored = a ^ b\n",
    "print(f\"XORed version: \\t{(xored):08b}\")\n"
   ]
  },
  {
   "cell_type": "markdown",
   "metadata": {},
   "source": [
    "#### Masking\n",
    "Remember the concept of a subnet mask from CCNA. If you do that context may help; if not, NBD we'll knock it out better than Gibby ever did here. \n",
    "\n",
    "Masking is all about determining if a bit is on or not. \n",
    "We simply AND the value we want to check with a mask. The mask has only one bit turned on, and that is the bit we want to check. \n",
    "Let's see an example"
   ]
  },
  {
   "cell_type": "code",
   "execution_count": 24,
   "metadata": {},
   "outputs": [
    {
     "name": "stdout",
     "output_type": "stream",
     "text": [
      "Fifth bit on? Should be 2^4 if on, 0 if off:\t 16\n",
      "Eigth bit on? Should be 2^7 if on, 0 if off:\t 0\n",
      "First bit on? Should be 2^0 if on, 0 if off:\t 1\n"
     ]
    }
   ],
   "source": [
    "###\n",
    "to_test = 0b01110111 ## Pretend you don't know this?!\n",
    "\n",
    "mask = 0b00010000 ## let's see if the 5th bit is on!\n",
    "fifth_bit_on = to_test & mask \n",
    "print(f\"Fifth bit on? Should be 2^4 if on, 0 if off:\\t\", fifth_bit_on) ## It's on!\n",
    "\n",
    "mask = 0b10000000 ## let's see if the 8th bit (aka the MOST SIGNIFICANT BIT) is on!\n",
    "msb_on = to_test & mask \n",
    "print(f\"Eigth bit on? Should be 2^7 if on, 0 if off:\\t\", msb_on) ## It's off!\n",
    "\n",
    "mask = 0b00000001 ## let's see if the 1st bit (aka the LEAST SIGNIFICANT BIT) is on!\n",
    "lsb_on = to_test & mask \n",
    "print(f\"First bit on? Should be 2^0 if on, 0 if off:\\t\", lsb_on) ## It's On!\n"
   ]
  },
  {
   "cell_type": "markdown",
   "metadata": {},
   "source": [
    "#### Bitwise Operations\n",
    "We've already seen the following:\n",
    "* | is the bitwise OR\n",
    "* ^ is the bitwise XOR\n",
    "* & is the bitwise AND\n",
    "\n",
    "\n",
    "Below, we'll have some examples of:\n",
    "* << is the bitwise shift left\n",
    "* '>>' is the bitwise shift right (Sorry it's in quotes, in Python it should not be in quotes its an operator, blame Markdown)\n",
    "* ~ is the bitwise NOT"
   ]
  },
  {
   "cell_type": "code",
   "execution_count": 26,
   "metadata": {},
   "outputs": [
    {
     "name": "stdout",
     "output_type": "stream",
     "text": [
      "0b110100\n",
      "0b11\n"
     ]
    }
   ],
   "source": [
    "## << pushes everything to the left and adds zeroes on the right\n",
    "shifted_left = 0b1101 << 2\n",
    "print(bin(shifted_left)) ## two extra zeroes on the right\n",
    "\n",
    "shifted_right = 0b1101 >> 2\n",
    "print(bin(shifted_right))"
   ]
  },
  {
   "cell_type": "markdown",
   "metadata": {},
   "source": [
    "#### Encoding and Decoding with Strings\n",
    "Sometimes, we have to work exactly with bytes and byte-arrays (ex when working with sockets). We want Python to easily encode text data into bytes so that we can then send that byte data out of a socket and down a wire. "
   ]
  },
  {
   "cell_type": "code",
   "execution_count": 28,
   "metadata": {},
   "outputs": [
    {
     "name": "stdout",
     "output_type": "stream",
     "text": [
      "Type of string version: <class 'str'>. Type of bytes version: <class 'bytes'>\n"
     ]
    }
   ],
   "source": [
    "name = \"Sammy\" \n",
    "goal_in_life = \"To get a dog\"\n",
    "why = \"I miss my dog but I get to see him in literally 2 days His name is Iggy\" \n",
    "\n",
    "bytes_name = b\"Sammy\" \n",
    "\n",
    "## To see the type difference\n",
    "print(f\"Type of string version: {type(name)}. Type of bytes version: {type(b'Sammy')}\")\n",
    "## See, fundamentally it's a different data type. We can easily convert between the two. Think how floats and ints are DIFFERENT \n",
    "## data types and we have to treat them/do operations differently on them. \n",
    "\n"
   ]
  },
  {
   "cell_type": "markdown",
   "metadata": {},
   "source": [
    "Just like we have a function int('3') to convert an object to an int and str(3) to convert between strings and integers.... we have a bytes() built-in function. \n",
    "\n",
    "* bytes() returns a byte-string. \n",
    "* bytearray() returns a byte-list. "
   ]
  },
  {
   "cell_type": "code",
   "execution_count": 45,
   "metadata": {},
   "outputs": [
    {
     "name": "stdout",
     "output_type": "stream",
     "text": [
      "Motivated bytes string:\t b'Semper'\n",
      "Motivated bytes array:\t bytearray(b'Semper')\n",
      "109 112\n",
      "Now we're super motivated: bytearray(b'Semper Fi')\n"
     ]
    }
   ],
   "source": [
    "moto = \"Semper\" \n",
    "## for all intents and purposes (or intensive purposes if you aren't good at English), ALWAYS use encoding='utf-8' \n",
    "moto_bytes_str = bytes(moto, encoding=\"utf-8\") \n",
    "\n",
    "print(\"Motivated bytes string:\\t\", moto_bytes_str)\n",
    "\n",
    "moto_bytes_array = bytearray(moto, encoding = 'utf-8') \n",
    "print(\"Motivated bytes array:\\t\", moto_bytes_array)\n",
    "\n",
    "## Ok cool, what can I do with these data types. Well, all the standard stuff!\n",
    "\n",
    "## Index into byte string and bytes array\n",
    "print(moto_bytes_str[2], moto_bytes_array[3]) ## notice these are numbers because bytes object!\n",
    "\n",
    "## Can append to a byte array! \n",
    "moto_bytes_array.append(ord(' '))\n",
    "moto_bytes_array.append(ord('F'))\n",
    "moto_bytes_array.append(ord('i'))\n",
    "\n",
    "print(\"Now we're super motivated:\", moto_bytes_array)"
   ]
  },
  {
   "cell_type": "code",
   "execution_count": 46,
   "metadata": {},
   "outputs": [
    {
     "name": "stdout",
     "output_type": "stream",
     "text": [
      "we love python\n"
     ]
    }
   ],
   "source": [
    "## Now we talk about decoding bytes objects. \n",
    "## Both the bytes and bytearray data types have a .decode() method for just this\n",
    "\n",
    "\n",
    "my_message = bytearray([119, 101, 32, 108, 111, 118, 101, 32, 112, 121, 116, 104, 111, 110])\n",
    "print(my_message.decode(encoding=\"utf-8\"))"
   ]
  },
  {
   "cell_type": "code",
   "execution_count": 92,
   "metadata": {},
   "outputs": [
    {
     "name": "stdout",
     "output_type": "stream",
     "text": [
      "10\n",
      "59\n",
      "561722\n",
      "[10, 59, 273, 561722]\n",
      "[1000000, 1000000, 1000000, 1000000]\n"
     ]
    }
   ],
   "source": [
    "def numsys(startint):\n",
    "    \"\"\" Given an integer `startint`, convert this integer to its \n",
    "    binary version, octal version, and hexadecimal version and \n",
    "    return these as a tuple in the order given. \"\"\"\n",
    "    return (bin(int(startint)), oct(int(startint)), hex(int(startint)))\n",
    "    \n",
    "def getints(binnum, octnum, decnum, hexnum):\n",
    "    \"\"\" Given the string parameters `binnum` (binary number), \n",
    "    `octnum` (octal number), decnum` (decimal number), `hexnum` \n",
    "    (hexadecimal number), convert each of these  to an integer and \n",
    "    return them as a list in their parameter order. \"\"\"\n",
    "    a = int(bin(int(binnum, 2)), 2)\n",
    "    b =  int(oct(int(octnum, 8)), 8)\n",
    "    d = int(hex(int(hexnum, 16)), 16)\n",
    "    return [a, b, int(decnum), d]\n",
    "    \n",
    "def literals():\n",
    "    \"\"\" Create a list and set the value using literals and return \n",
    "    the list. All literals will represent the decimal integer value \n",
    "    1,000,000 (one million). You must use a literal to represent \n",
    "    the target value in binary, hexadecimal, decimal, and octal.\n",
    "    The order is not important. \"\"\"\n",
    "    a = '0b11110100001001000000'\n",
    "    b = '0o3641100'\n",
    "    c = '0xf4240'\n",
    "\n",
    "    # test = (\"is this a tuple?\",)\n",
    "    # print(test)\n",
    "    return [int(a, 2), int(b, 8), int(c, 16), 1000000]\n",
    "    a = numsys(1000000)\n",
    "    a.append(1000000)\n",
    "    return a \n",
    "\n",
    "\n",
    "b = getints(\"1010\", \"73\", \"273\", \"8923a\")\n",
    "print(b)\n",
    "\n",
    "c = literals()\n",
    "print(c)"
   ]
  },
  {
   "cell_type": "code",
   "execution_count": 96,
   "metadata": {},
   "outputs": [
    {
     "name": "stdout",
     "output_type": "stream",
     "text": [
      "31\n"
     ]
    }
   ],
   "source": [
    "## Exercise 100\n",
    "\n",
    "def complexity(password):\n",
    "    import string \n",
    "    final_ans = 0b00000\n",
    "    if len(password) > 15:\n",
    "        final_ans |= 0b00001\n",
    "    \n",
    "    if any(let.isdigit() for let in password):\n",
    "        final_ans |= 0b00010\n",
    "    \n",
    "    if any(let.isupper() for let in password):\n",
    "        final_ans |= 0b00100\n",
    "    \n",
    "    if any(let.islower() for let in password):\n",
    "        final_ans |= 0b01000\n",
    "    \n",
    "    if any(let in string.punctuation for let in password):\n",
    "        final_ans |= 0b10000\n",
    "    \n",
    "    return final_ans\n",
    "\n",
    "a = complexity(\"asdfypasdfqn&(78HI\")\n",
    "print(a)"
   ]
  },
  {
   "cell_type": "code",
   "execution_count": 112,
   "metadata": {},
   "outputs": [
    {
     "name": "stdout",
     "output_type": "stream",
     "text": [
      "['0', '0', '1', '1', '0', '0', '1', '0', '0']\n",
      "--xr--r--\n"
     ]
    }
   ],
   "source": [
    "def perms(mode):\n",
    "    lst_vers = list(bin(mode)[2:].zfill(9))\n",
    "    file_perms = []\n",
    "    counter = 0\n",
    "    for i, bin_str in enumerate(lst_vers):\n",
    "        if bin_str == \"1\":\n",
    "            if counter == 0:\n",
    "                file_perms.append('r')\n",
    "            elif counter == 1:\n",
    "                file_perms.append('w')\n",
    "            elif counter == 2:\n",
    "                file_perms.append('x')\n",
    "        \n",
    "        else:\n",
    "            file_perms.append(\"-\")\n",
    "        \n",
    "        counter += 1\n",
    "        if counter == 3:\n",
    "            counter = 0\n",
    "    return \"\".join(file_perms)\n",
    "\n",
    "print(perms(100))\n"
   ]
  },
  {
   "cell_type": "code",
   "execution_count": 99,
   "metadata": {},
   "outputs": [
    {
     "name": "stdout",
     "output_type": "stream",
     "text": [
      "True\n"
     ]
    }
   ],
   "source": [
    "type('hi')\n",
    "\n",
    "print(type('hi') == str)\n",
    "\n",
    "'r-xr--"
   ]
  },
  {
   "cell_type": "code",
   "execution_count": null,
   "metadata": {},
   "outputs": [],
   "source": []
  }
 ],
 "metadata": {
  "kernelspec": {
   "display_name": "Python 3.8.10 64-bit",
   "language": "python",
   "name": "python3"
  },
  "language_info": {
   "codemirror_mode": {
    "name": "ipython",
    "version": 3
   },
   "file_extension": ".py",
   "mimetype": "text/x-python",
   "name": "python",
   "nbconvert_exporter": "python",
   "pygments_lexer": "ipython3",
   "version": "3.8.10"
  },
  "orig_nbformat": 4,
  "vscode": {
   "interpreter": {
    "hash": "916dbcbb3f70747c44a77c7bcd40155683ae19c65e1c03b4aa3499c5328201f1"
   }
  }
 },
 "nbformat": 4,
 "nbformat_minor": 2
}
