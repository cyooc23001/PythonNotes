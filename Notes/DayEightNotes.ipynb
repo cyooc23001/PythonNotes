{
 "cells": [
  {
   "cell_type": "markdown",
   "metadata": {},
   "source": [
    "## Socket Programming\n",
    "A socket is like a tin can. The wire connects two tin cans and you can use them to talk to someone. \n",
    "\n",
    "Socket Programming is simply using Python to set up a socket to enable network communcations!\n",
    "\n",
    "Fortunately, someone has already done most of the heavy lifting and made a Python module called socket that has most of the functionality we want!\n",
    "\n",
    "Remember the client-server model!?\n",
    "Client = requesting computer. Server = a remote server that waits to receive and service requests from the client (sorry for the circular definition!)\n",
    "\n",
    "Below, we will set up a very simple client-server connection using the local-host loopback IP. "
   ]
  },
  {
   "cell_type": "markdown",
   "metadata": {},
   "source": [
    "#### UDP Send a Single Message:"
   ]
  },
  {
   "cell_type": "code",
   "execution_count": 9,
   "metadata": {},
   "outputs": [],
   "source": [
    "import socket\n",
    "\n",
    "def udpEchoClient():\n",
    "    ## Set up the socket, assign variable s to point to the socket\n",
    "    s = socket.socket(type=socket.SOCK_DGRAM)\n",
    "\n",
    "    ## Send data to our server!\n",
    "    ## Pass in the data to send and a tuple for the socket pair - IP and port of the SERVER\n",
    "    s.sendto(b\"Hello World\", ('127.0.0.1', 12345)) ## b before string because we send bytes over a socket!\n",
    "\n",
    "    ## You will now WAIT to receive data back from the server\n",
    "    data_back, address = s.recvfrom(4096)\n",
    "    print(f\"{data_back} received from  {address}\")\n",
    "\n"
   ]
  },
  {
   "cell_type": "code",
   "execution_count": 10,
   "metadata": {},
   "outputs": [],
   "source": [
    "import socket\n",
    "\n",
    "## For these to work, we have to have the two scripts in different files and run them separately. \n",
    "def udpEchoServer():\n",
    "    s = socket.socket(type = socket.SOCK_DGRAM)\n",
    "\n",
    "    ## Pass in a socket pair - IP and port of the SERVER\n",
    "    s.bind(('127.0.0.1', 12345))\n",
    "\n",
    "    data_req, address = s.recvfrom(4096)\n",
    "\n",
    "    print(f\"{data_req} received from {address}\")\n",
    "\n",
    "    s.sendto(data_req, address)\n",
    "\n",
    "    print(\"sent data\", data_req)\n"
   ]
  },
  {
   "cell_type": "markdown",
   "metadata": {},
   "source": [
    "#### UDP Continuously Receive Data from User Input\n",
    "\n",
    "On to user input and multiple stream of data! The server stays alive and can handle multiple requests! The client asks for user input and sends that message over the wire!"
   ]
  },
  {
   "cell_type": "code",
   "execution_count": 4,
   "metadata": {},
   "outputs": [],
   "source": [
    "import socket\n",
    "## SERVER: stays alive to keep processing requests\n",
    "\n",
    "def udp_echo_service():\n",
    "    s= socket.socket(type=socket.SOCK_DGRAM)\n",
    "    ## Pass in a socket pair - IP and port of the SERVER\n",
    "    s.bind(('127.0.0.1', 12345))\n",
    "\n",
    "    while True:\n",
    "        data, address = s.recvfrom(4096)\n",
    "        print(\"received\", data, \"from\", address)\n",
    "\n",
    "        s.sendto(data, address)"
   ]
  },
  {
   "cell_type": "code",
   "execution_count": 5,
   "metadata": {},
   "outputs": [],
   "source": [
    "import socket \n",
    "\n",
    "## CLIENT: asks for user input and sends that to server!\n",
    "def udp_echo_client():\n",
    "    s = socket.socket(type=socket.SOCK_DGRAM)\n",
    "\n",
    "    ## Pass in a socket pair - IP and port of the SERVER\n",
    "    s.sendto(input('Text to send: ').encode(\"ascii\"), ('127.0.0.1', 12345))\n",
    "    data, address = s.recvfrom(4096)\n",
    "    print(data, \"received from\", address)"
   ]
  },
  {
   "cell_type": "markdown",
   "metadata": {},
   "source": [
    "#### Now, onto TCP\n",
    "TCP is connection-oriented. \n",
    "\n",
    "Syntax is a bit more involved than UDP"
   ]
  },
  {
   "cell_type": "code",
   "execution_count": 6,
   "metadata": {},
   "outputs": [],
   "source": [
    "import socket\n",
    "\n",
    "## SERVER: Must - Bind, Listen, Accept, Send....\n",
    "def tcp_qotd_server(): ## Quote of the Day SERVER\n",
    "    s = socket.socket()\n",
    "    s.bind(('127.0.0.1'), 12345)\n",
    "\n",
    "    ## Set up this socket to listen for connections!\n",
    "    s.listen()\n",
    "\n",
    "    ## Perform 3 way handshake to establish connection with client\n",
    "    client_socket, address = s.accept()\n",
    "\n",
    "    quote = b'Oorah semper fi' \n",
    "\n",
    "    client_socket.send(quote)\n",
    "    client_socket.close()  ## Make sure to close the socket to the client when you are done!\n"
   ]
  },
  {
   "cell_type": "code",
   "execution_count": 7,
   "metadata": {},
   "outputs": [],
   "source": [
    "import socket \n",
    "\n",
    "## CLIENT: Very similar to UDP. Connect and receive!\n",
    "def tcp_qotd_client(): ## Client to ask the qotd server for the quote of the day!\n",
    "    s = socket.socket()\n",
    "    s.connect(('127.0.0.1', 12345))\n",
    "\n",
    "    data = s.recv(4096)\n",
    "\n",
    "    print(\"Quote of the day is\", data)"
   ]
  },
  {
   "cell_type": "markdown",
   "metadata": {},
   "source": [
    "#### TCP Continuous Server\n",
    "NOW, we can have the server loop and handle multiple requests!"
   ]
  },
  {
   "cell_type": "code",
   "execution_count": null,
   "metadata": {},
   "outputs": [],
   "source": [
    "import socket \n",
    "\n",
    "## Server - the while loop keeps the server allive to handle multiple requests\n",
    "def tcp_qotd_service():\n",
    "    s = socket.socket()\n",
    "\n",
    "    ## Short-cut to say 127.0.0.1 is empty string \n",
    "    s.bind(('', 12345))\n",
    "\n",
    "    s.listen() \n",
    "\n",
    "    ## With a loop - the service now works continuously \n",
    "    while True:\n",
    "        client_socket, address = s.accept() \n",
    "        quote = b'OORAH Rangers lead the way'\n",
    "\n",
    "        client_socket.sendall(quote)\n",
    "        client_socket.close()"
   ]
  },
  {
   "cell_type": "code",
   "execution_count": 11,
   "metadata": {},
   "outputs": [],
   "source": [
    "import socket\n",
    "\n",
    "## Client - SLIGHTLY DIFFERENT FROM WHAT WE'VE SEEN. But really the same. Same, same but different. \n",
    "## Basically, we are reading the message 4 bytes at a time!\n",
    "\n",
    "def tcp_qotd_client():\n",
    "    s = socket.socket()\n",
    "    s.connect(('127.0.0.1', 12345))\n",
    "\n",
    "    ## A bytearray to store chunks of the message\n",
    "    msg = bytearray()\n",
    "    chunk = s.recv(4) \n",
    "\n",
    "    ## This is a bit different, we are receiving CHUNKS of data from the socket.\n",
    "    ## Only 4 bytes at a time! so we have to continually receive from the socket\n",
    "    ## before we get the whole message.\n",
    "    ## Once we've read everything, the buffer is empty and recv will return None\n",
    "    while chunk:\n",
    "        print(msg) ## see the msg bytearray grow!\n",
    "        msg.extend(chunk) ## equivalent to append for a list\n",
    "        chunk = s.recv(4) ## read the next chunk!\n",
    "    \n",
    "    ## Now, we've received the whole message\n",
    "    print(msg) \n",
    "\n"
   ]
  },
  {
   "cell_type": "code",
   "execution_count": null,
   "metadata": {},
   "outputs": [],
   "source": []
  }
 ],
 "metadata": {
  "kernelspec": {
   "display_name": "Python 3.8.10 64-bit",
   "language": "python",
   "name": "python3"
  },
  "language_info": {
   "codemirror_mode": {
    "name": "ipython",
    "version": 3
   },
   "file_extension": ".py",
   "mimetype": "text/x-python",
   "name": "python",
   "nbconvert_exporter": "python",
   "pygments_lexer": "ipython3",
   "version": "3.8.10"
  },
  "orig_nbformat": 4,
  "vscode": {
   "interpreter": {
    "hash": "916dbcbb3f70747c44a77c7bcd40155683ae19c65e1c03b4aa3499c5328201f1"
   }
  }
 },
 "nbformat": 4,
 "nbformat_minor": 2
}
