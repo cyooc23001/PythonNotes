{
 "cells": [
  {
   "cell_type": "code",
   "execution_count": 2,
   "metadata": {},
   "outputs": [
    {
     "name": "stdout",
     "output_type": "stream",
     "text": [
      "[32.5, 234.0, 64.323]\n"
     ]
    }
   ],
   "source": [
    "## Q1 -- data type conversion and .split\n",
    "## 1. Use of .split()\n",
    "## 2. Iterate over list\n",
    "## 3. Conversion of str to float\n",
    "def q1(floatstr):  \n",
    "    return [float(x) for x in floatstr.split(\",\")]\n",
    "    \n",
    "print(q1(\"32.5, 234, 64.323\"))\n"
   ]
  },
  {
   "cell_type": "code",
   "execution_count": null,
   "metadata": {},
   "outputs": [],
   "source": [
    "## Q2 - Running average\n",
    "## 1. Test knowledge of *args\n",
    "## 2. Basic iteration over list-like object\n",
    "def q1(*args):\n",
    "    total = 0\n",
    "    length = 0\n",
    "    for arg in args:\n",
    "        total+= arg\n",
    "        length += 1\n",
    "    return total/length"
   ]
  },
  {
   "cell_type": "code",
   "execution_count": 3,
   "metadata": {},
   "outputs": [
    {
     "name": "stdout",
     "output_type": "stream",
     "text": [
      "[123, 32]\n"
     ]
    }
   ],
   "source": [
    "## Q3\n",
    "## 1. Test string slicing\n",
    "def q1(lst,n):\n",
    "    return lst[len(lst)-n:]\n",
    "\n",
    "print(q1([5, 6, 7, 123, 32], 2))\n"
   ]
  },
  {
   "cell_type": "code",
   "execution_count": null,
   "metadata": {},
   "outputs": [],
   "source": [
    "## Q4\n",
    "## 1. Test ord() conversion\n",
    "def q1(strng):\n",
    "    return [ord(x) for x in strng]"
   ]
  },
  {
   "cell_type": "code",
   "execution_count": 4,
   "metadata": {},
   "outputs": [
    {
     "name": "stdout",
     "output_type": "stream",
     "text": [
      "('asdfh', 'asdf', 'weqrh', 'asddf')\n"
     ]
    }
   ],
   "source": [
    "## Q5 - \n",
    "## 1. test .split again\n",
    "def q1(strng):\n",
    "    return tuple(strng.split(\" \"))\n",
    "\n",
    "print(q1(\"asdfh asdf weqrh asddf\"))\n"
   ]
  },
  {
   "cell_type": "code",
   "execution_count": null,
   "metadata": {},
   "outputs": [],
   "source": [
    "## Q6 \n",
    "## Iterate over dictionary\n",
    "def q6(catalog, order):\n",
    "    return sum([catalog[name] * quantity for name, quantity in order])\n"
   ]
  },
  {
   "cell_type": "code",
   "execution_count": 6,
   "metadata": {},
   "outputs": [
    {
     "data": {
      "text/plain": [
       "37"
      ]
     },
     "execution_count": 6,
     "metadata": {},
     "output_type": "execute_result"
    }
   ],
   "source": [
    "## Q7 \n",
    "## 1. Open Files\n",
    "## 2. Read file line\n",
    "def q1(filename):\n",
    "    with open(filename) as fp:\n",
    "        return len(fp.readline()[:-1])\n",
    "\n",
    "\n",
    "q1(\"data.txt\")\n"
   ]
  },
  {
   "cell_type": "code",
   "execution_count": 7,
   "metadata": {},
   "outputs": [],
   "source": [
    "## Q8 - writing to a file and iterating over list\n",
    "def q1(filename,lst):\n",
    "    with open(filename, \"w\") as fp:\n",
    "        for line in lst:\n",
    "            if line == \"stop\":\n",
    "                break\n",
    "            fp.write(line + \"\\n\")\n",
    "\n",
    "q1(\"test.txt\", [\"temp\", \"try\", \"semper\", \"stop\", \"gumby\"])\n"
   ]
  },
  {
   "cell_type": "code",
   "execution_count": null,
   "metadata": {},
   "outputs": [],
   "source": [
    "## Q9 - basic conditionals"
   ]
  }
 ],
 "metadata": {
  "kernelspec": {
   "display_name": "Python 3.8.10 64-bit",
   "language": "python",
   "name": "python3"
  },
  "language_info": {
   "codemirror_mode": {
    "name": "ipython",
    "version": 3
   },
   "file_extension": ".py",
   "mimetype": "text/x-python",
   "name": "python",
   "nbconvert_exporter": "python",
   "pygments_lexer": "ipython3",
   "version": "3.8.10"
  },
  "orig_nbformat": 4,
  "vscode": {
   "interpreter": {
    "hash": "916dbcbb3f70747c44a77c7bcd40155683ae19c65e1c03b4aa3499c5328201f1"
   }
  }
 },
 "nbformat": 4,
 "nbformat_minor": 2
}
