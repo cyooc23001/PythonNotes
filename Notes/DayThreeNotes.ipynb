{
 "cells": [
  {
   "cell_type": "markdown",
   "metadata": {},
   "source": [
    "## Day Three\n",
    "Almost the weekend! Power through!"
   ]
  },
  {
   "cell_type": "markdown",
   "metadata": {},
   "source": [
    "VPN GUIDE: https://cctc.cybbh.io/students/students/latest/openvpn-guide.html\n",
    "\n",
    "CTFD server: 10.50.40.25"
   ]
  },
  {
   "cell_type": "code",
   "execution_count": null,
   "metadata": {},
   "outputs": [],
   "source": []
  },
  {
   "cell_type": "markdown",
   "metadata": {},
   "source": [
    "#### List Slicing\n",
    "Allows us to cut  up a string, list, tuple (any item that we can index into)"
   ]
  },
  {
   "cell_type": "code",
   "execution_count": 9,
   "metadata": {},
   "outputs": [
    {
     "name": "stdout",
     "output_type": "stream",
     "text": [
      "United States\n",
      "['U', 'S', 'M', 'C']\n",
      "neSt r\n",
      "sproC eniraM setatS detinU\n"
     ]
    }
   ],
   "source": [
    "## An example of slicing\n",
    "org = \"United States Marine Corps\"\n",
    "country = org[0:13]\n",
    "print(country)\n",
    "\n",
    "## An example of indexing\n",
    "letters = [org[0], org[7], org[14], org[21]]\n",
    "print(letters)\n",
    "\n",
    "\n",
    "## An example of step size\n",
    "## parameters are: (start, end, step)\n",
    "weird = org[1:18:3]\n",
    "print(weird)\n",
    "\n",
    "## Reverse a string\n",
    "reversed = org[::-1]\n",
    "print(reversed)"
   ]
  },
  {
   "cell_type": "markdown",
   "metadata": {},
   "source": [
    "#### List Comprehensions\n",
    "EVERYTHING you can do with a list comprehension you can do with a normal loop. YOU SHOULD focus on understanding the normal loop process before diving into list comprehensions. These are pretty hard. "
   ]
  },
  {
   "cell_type": "code",
   "execution_count": 11,
   "metadata": {},
   "outputs": [
    {
     "name": "stdout",
     "output_type": "stream",
     "text": [
      "[0, 9, 18, 27, 36, 45, 54, 63, 72, 81, 90, 99]\n",
      "[0, 9, 18, 27, 36, 45, 54, 63, 72, 81, 90, 99]\n"
     ]
    }
   ],
   "source": [
    "## Example list comprehension\n",
    "multiples_of_nine = [x for x in range(0, 100) if x % 9 == 0]\n",
    "print(multiples_of_nine)\n",
    "\n",
    "## Much easier way to understand\n",
    "multiples_of_nine = []\n",
    "for x in range(0, 100):\n",
    "    if x % 9 == 0:\n",
    "        multiples_of_nine.append(x)\n",
    "print(multiples_of_nine)\n",
    "\n",
    "## See they're the same! If you don't understand the top, NBD --> you just gotta understand the normal looping process"
   ]
  },
  {
   "cell_type": "markdown",
   "metadata": {},
   "source": [
    "#### File IO\n",
    "We are learning the context manager route so that's all I will focus on. \n",
    "Three ways to read a file:\n",
    "* fp.read() --> Reads the entire file and puts it into one string\n",
    "* fp.readline() --> Gives you just one line as a string\n",
    "* fp.readlines() --> Gives you the entire file as a list of strings (each line is a string in the list)"
   ]
  },
  {
   "cell_type": "code",
   "execution_count": 4,
   "metadata": {},
   "outputs": [
    {
     "name": "stdout",
     "output_type": "stream",
     "text": [
      "USING READ: \n",
      "This is a test file to show File IO. \n",
      "Oorah Rangers lead the way!\n",
      "That's why a Marine had the best time on the ACFT two mile?\n",
      "Semper Fi!\n",
      "\n",
      "USING READLINE: \n",
      "This is a test file to show File IO. \n",
      "\n",
      "\n",
      "USING READLINES: \n",
      "['This is a test file to show File IO. \\n', 'Oorah Rangers lead the way!\\n', \"That's why a Marine had the best time on the ACFT two mile?\\n\", 'Semper Fi!']\n",
      "\n"
     ]
    }
   ],
   "source": [
    "with open('data.txt') as fp:\n",
    "    read_vers = fp.read() \n",
    "    print(f\"USING READ: \\n{read_vers}\\n\")\n",
    "\n",
    "with open('data.txt') as fp:\n",
    "    readline_vers = fp.readline() \n",
    "    print(f\"USING READLINE: \\n{readline_vers}\\n\")\n",
    "\n",
    "with open('data.txt') as fp:\n",
    "    readlines_vers = fp.readlines()\n",
    "    print(f\"USING READLINES: \\n{readlines_vers}\\n\")"
   ]
  },
  {
   "cell_type": "markdown",
   "metadata": {},
   "source": [
    "We can also write to a file! \n",
    "Here, we only have two methods:\n",
    "* write() --> Writes string content to a file. \n",
    "* writelines() --> Writes the contents of a list to the file. \n"
   ]
  },
  {
   "cell_type": "code",
   "execution_count": 10,
   "metadata": {},
   "outputs": [
    {
     "name": "stdout",
     "output_type": "stream",
     "text": [
      "USING READ: \n",
      "This is working well I think!\n",
      "\n",
      "\n",
      "USING READ: \n",
      "This is working well I think!\n",
      "Some more data we should be writing!?36hello?all the way down here\n",
      "\n"
     ]
    }
   ],
   "source": [
    "### Examples in python\n",
    "with open(\"write_to.txt\", \"w\") as fp:\n",
    "    fp.write(\"This is working well I think!\\n\") ## Have to add \\n to ensure new line is written!\n",
    "\n",
    "## Check contents\n",
    "with open('write_to.txt') as fp:\n",
    "    read_vers = fp.read() \n",
    "    print(f\"USING READ: \\n{read_vers}\\n\")\n",
    "\n",
    "## Let's write some more using the \"a\" append mode\n",
    "with open(\"write_to.txt\", \"a\") as fp:\n",
    "    fp.writelines([\"Some more data we should be writing!?\", '3', '6', \"hello?\", \"all the way down here\"])\n",
    "\n",
    "## Check contents again\n",
    "with open('write_to.txt') as fp:\n",
    "    read_vers = fp.read() \n",
    "    print(f\"USING READ: \\n{read_vers}\\n\") \n",
    "    ## WEIRD!? Notice how writelines doesn't automatically put the newlines in. You have to do that!"
   ]
  },
  {
   "cell_type": "code",
   "execution_count": null,
   "metadata": {},
   "outputs": [],
   "source": [
    "## Exercise 14\n"
   ]
  },
  {
   "cell_type": "code",
   "execution_count": 13,
   "metadata": {},
   "outputs": [
    {
     "name": "stdout",
     "output_type": "stream",
     "text": [
      "2\n",
      "([1, 2], [6, 7])\n"
     ]
    }
   ],
   "source": [
    "## Exercise 15\n",
    "def disect(lst):\n",
    "    '''\n",
    "    Returns a tuple of the given list split into two equally sized halves.\n",
    "    The given list will always consist of an even number of elements.\n",
    "    Args:\n",
    "        lst (lst): a list of elements\n",
    "    Returns:\n",
    "        tuple: a tuple of two lists\n",
    "    '''\n",
    "    mid = len(lst) // 2\n",
    "    print(mid)\n",
    "    return (lst[:mid], lst[mid:])\n",
    "print(disect([1, 2, 6, 7]))"
   ]
  },
  {
   "cell_type": "code",
   "execution_count": null,
   "metadata": {},
   "outputs": [],
   "source": [
    "## Exercise 16:\n",
    "def reverse_string(strng):\n",
    "    '''\n",
    "    Returns a copy of the given string reversed\n",
    "    Args:\n",
    "        strng (str): a string of alphanumeric characters\n",
    "    Returns:\n",
    "        str: a copy of the given string reversed\n",
    "    '''    \n",
    "    return strng[::-1]"
   ]
  },
  {
   "cell_type": "code",
   "execution_count": null,
   "metadata": {},
   "outputs": [],
   "source": [
    "## Exercise 17: \n",
    "def code_points(strng):\n",
    "    '''\n",
    "    Returns a list of ordinals for every character in the given string\n",
    "    Args:\n",
    "        strng (str): a string of alphanumeric characters\n",
    "    Returns:\n",
    "        list: ordinals of every character in the given string\n",
    "    '''    \n",
    "    return [ord(let) for let in strng]\n",
    "    ## This is a list comprehension\n",
    "\n",
    "    ## Here's the way to do it with a normal for loop\n",
    "    ans = []\n",
    "    for let in strng:\n",
    "        ord_vers = ord(let)\n",
    "        ans.append(ord_vers)\n",
    "    return ans "
   ]
  },
  {
   "cell_type": "code",
   "execution_count": 16,
   "metadata": {},
   "outputs": [],
   "source": [
    "## Exercise 18\n",
    "\n",
    "def linenums(inpath, outpath):\n",
    "    with open(inpath) as fp:\n",
    "        data = fp.readlines()\n",
    "    with open(outpath, \"w\") as fp:\n",
    "        for i, line in enumerate(data):\n",
    "             to_write = f\"{i+1}: \" + line \n",
    "             fp.write(to_write)\n",
    "\n",
    "linenums(\"data.txt\", \"final.txt\")"
   ]
  },
  {
   "cell_type": "code",
   "execution_count": 49,
   "metadata": {},
   "outputs": [],
   "source": [
    "## Exercise 18-2\n",
    "def log_to_file(fname, theme):\n",
    "    '''\n",
    "    Args:\n",
    "        fname (str): Path to an existing file that includes previous inspirational messages to keep.\n",
    "        theme (str): Theme to be placed on each line.\n",
    "    Returns:\n",
    "        None\n",
    "    '''\n",
    "    inp = input()\n",
    "    while inp: \n",
    "        form = f\"{theme}:{inp}\\n\"\n",
    "        with open(fname, \"a\") as fp:\n",
    "            fp.write(form)\n",
    "        \n",
    "        inp = input()"
   ]
  },
  {
   "cell_type": "code",
   "execution_count": 51,
   "metadata": {},
   "outputs": [],
   "source": [
    "## Exercise 18-3 \n",
    "def replace_in_file(in_path, out_path, reps):\n",
    "    '''\n",
    "    Args:\n",
    "        in_path (str): input file path\n",
    "        out_path (str): output file path\n",
    "        reps (list): list of tuples containing (\"find\", \"replace\") mappings\n",
    "    Returns:\n",
    "        None\n",
    "    '''\n",
    "    # dict_reps = {x[0]:x[1] for x in reps}\n",
    "    with open(in_path) as fp:\n",
    "        lines = fp.readlines()\n",
    "\n",
    "    for i, line in enumerate(lines):\n",
    "        for pair in reps:\n",
    "            line = line.replace(pair[0], pair[1])\n",
    "            lines[i] = line\n",
    "    \n",
    "    with open(out_path, \"w\") as fp:\n",
    "        fp.writelines(lines)\n",
    "                \n",
    "reps = [(\"taken\",\"delivered\"),(\"cat\",\"dog\"),(\"outside\",\"beyond\"),(\"straightaway\",\"forthwith\"),(\"possibly\",\"perchance\"), (\"whole\", \"fat\")]\n",
    "replace_in_file(\"in_path.txt\", \"out_path.txt\", reps)"
   ]
  },
  {
   "cell_type": "code",
   "execution_count": 48,
   "metadata": {},
   "outputs": [
    {
     "data": {
      "text/plain": [
       "'Be all that you can be'"
      ]
     },
     "execution_count": 48,
     "metadata": {},
     "output_type": "execute_result"
    }
   ],
   "source": [
    "## Exercise 18-3\n",
    "def tough_read(fname):\n",
    "    '''\n",
    "    Args:\n",
    "        fname (str): path to a file where the input is located\n",
    "    Returns:\n",
    "        str: Sentence that was decoded\n",
    "    '''\n",
    "    # final = \n",
    "    with open(fname) as fp:\n",
    "        ## List Comprehension version\n",
    "        return \"\".join([chr(int(byte, base=2)) for byte in fp.readlines()])\n",
    "\n",
    "        ## This is the unrolled list comprehension. It does the same thing!!\n",
    "        for byte in data:\n",
    "            print(\"byte is\", byte)\n",
    "            int_form = int(byte, base=2)\n",
    "            char_form = chr(int_form)\n",
    "            final.append(char_form)\n",
    "        return final \n",
    "\n",
    "\n",
    "\n",
    "\n",
    "tough_read(\"act18_1.txt\")"
   ]
  },
  {
   "cell_type": "code",
   "execution_count": null,
   "metadata": {},
   "outputs": [],
   "source": []
  }
 ],
 "metadata": {
  "kernelspec": {
   "display_name": "Python 3.8.10 64-bit",
   "language": "python",
   "name": "python3"
  },
  "language_info": {
   "codemirror_mode": {
    "name": "ipython",
    "version": 3
   },
   "file_extension": ".py",
   "mimetype": "text/x-python",
   "name": "python",
   "nbconvert_exporter": "python",
   "pygments_lexer": "ipython3",
   "version": "3.8.10"
  },
  "orig_nbformat": 4,
  "vscode": {
   "interpreter": {
    "hash": "916dbcbb3f70747c44a77c7bcd40155683ae19c65e1c03b4aa3499c5328201f1"
   }
  }
 },
 "nbformat": 4,
 "nbformat_minor": 2
}
