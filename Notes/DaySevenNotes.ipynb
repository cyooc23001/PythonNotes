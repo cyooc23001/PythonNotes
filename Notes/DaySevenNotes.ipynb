{
 "cells": [
  {
   "cell_type": "markdown",
   "metadata": {},
   "source": [
    "## Classes\n",
    "An object is defined what it HAS and what it CAN DO. \n",
    "\n",
    "A class is how we define objects. Then, there are specific instantiations of that object time. \n",
    "\n",
    "Example: we can define a class Marines. Every Marine has a rank. That is one of its **attributes**. \n",
    "\n",
    "Then, we can say that every Marine can do things - like drink beer and shoot. Those would be its **methods**. \n",
    "\n",
    "\n",
    "Classes are basically how we can define data types that we want to work with. Once upon a time, someone defined a class List, and now we use that class every day. A list has attributes - its elements. And it has methods (.append, .extend, len, +, etc, etc!)\n",
    "\n",
    "So, when we make a class, it's just an opportunity for us to define whatever objects we want!"
   ]
  },
  {
   "cell_type": "code",
   "execution_count": 2,
   "metadata": {},
   "outputs": [
    {
     "name": "stdout",
     "output_type": "stream",
     "text": [
      "MajGen Chesty Puller\n",
      "MajGen Sam Dorchuck\n"
     ]
    }
   ],
   "source": [
    "class Marine():\n",
    "    rank = \"MajGen\"\n",
    "    first = \"Chesty\" \n",
    "    last = \"Puller\"\n",
    "\n",
    "    def grunt(self):\n",
    "        print(\"Err {} {} {}\".format(self.rank, self.first, self.last))\n",
    "\n",
    "    \n",
    "    def __str__(self):\n",
    "        print(\"Oorah good morning, sir! This is {} {} {} ready to kill.\".format(self.rank, self.first, self.last))\n",
    "\n",
    "marine1 = Marine()\n",
    "marine2 = Marine() \n",
    "\n",
    "marine1.grunt()\n",
    "\n",
    "marine2.first = \"Sam\"\n",
    "marine2.last = \"Dorchuck\"\n",
    "marine2.grunt() ## has a nice ring to it I think?"
   ]
  },
  {
   "cell_type": "markdown",
   "metadata": {},
   "source": [
    "#### Object Oriented Programming \n",
    "Don't worry too much about these principles. It's more important that you can make a class. These are the esoteric principles. \n",
    "\n",
    "1. Encapsulation\n",
    "    Object keeps all its data private. You can only interact with an object through its public methods.\n",
    "\n",
    "2. Abstraction\n",
    "    - Each object only exposes a high-level method for using it. A public API. \n",
    "\n",
    "3. Inheritance\n",
    "    - Classes derive attributes and methods from parent classes!\n",
    "\n",
    "4. Polymorphism\n",
    "    - Provide a single interface to objects of different types BECAUSE those objects have the same parent class. \n"
   ]
  },
  {
   "cell_type": "markdown",
   "metadata": {},
   "source": [
    "On the test, it will be VERY explicit about how to make a class. These questions should be pretty close to free points, you just have to understand the syntax of how to set up the class. \n",
    "\n",
    "Ex: Create a class called **balloon**. It will have a method **climb()** that will increment the attribute *altitude* by 1.\n",
    "\n",
    "Here's what that code would look like:"
   ]
  },
  {
   "cell_type": "code",
   "execution_count": 6,
   "metadata": {},
   "outputs": [],
   "source": [
    "class Balloon: \n",
    "    def __init__(self):\n",
    "        ## this is used to INITIALIZE and INSTANCE of the class\n",
    "        self.altitude = 0\n",
    "\n",
    "    def climb(self):\n",
    "        self.altitude += 1\n",
    "\n",
    "    def __str__(self):\n",
    "        ## this is used to print out the specific instance of the class\n",
    "        return \"Current altitude: {}\".format(self.altitude)"
   ]
  },
  {
   "cell_type": "code",
   "execution_count": 7,
   "metadata": {},
   "outputs": [
    {
     "name": "stdout",
     "output_type": "stream",
     "text": [
      "Ball 1's altitude: Current altitude: 0\n",
      "Ball 2's altitude: Current altitude: 0\n",
      "\n",
      "Ball 1's altitude: Current altitude: 2\n",
      "Ball 2's altitude: Current altitude: 0\n"
     ]
    }
   ],
   "source": [
    "ball1 = Balloon()\n",
    "ball2 = Balloon() \n",
    "\n",
    "print(\"Ball 1's altitude:\", ball1)\n",
    "print(\"Ball 2's altitude:\", ball2)\n",
    "\n",
    "print()\n",
    "\n",
    "ball1.climb()\n",
    "ball1.climb()\n",
    "\n",
    "print(\"Ball 1's altitude:\", ball1)\n",
    "print(\"Ball 2's altitude:\", ball2)\n"
   ]
  },
  {
   "cell_type": "markdown",
   "metadata": {},
   "source": [
    "My best guess of what the test question on classes will look like:\n",
    "\n",
    "1. Make a class called \n",
    "2. "
   ]
  },
  {
   "cell_type": "markdown",
   "metadata": {},
   "source": [
    "## Error Handling\n",
    "This is a very easy lecture. You guys already understand how this works intuitively. Error handling is all about branching. \n",
    "\n",
    "Normally when you get an error in Python, it's all over. Call in the FPF and go home. The WHOLE script stops working!\n",
    "\n",
    "What if we want to keep running? We can tell Python \"Hey even if you give me an error, that's OK, I just want you to try this code and IF it turns out there's an error then we'll keep running in my EXCEPT block\"\n",
    "\n",
    "Here's an example:"
   ]
  },
  {
   "cell_type": "code",
   "execution_count": 8,
   "metadata": {},
   "outputs": [
    {
     "name": "stdout",
     "output_type": "stream",
     "text": [
      "5\n"
     ]
    }
   ],
   "source": [
    "## Try statement where try block causes error\n",
    "try:\n",
    "    a = 10 / 0 ## Obviously, this will cause an error. Good thing Python is only TRYing to run this part\n",
    "except: \n",
    "    a = 5 ## We only execute this if we get an error in the try block\n",
    "    \n",
    "\n",
    "## Notice how we get an error in the try block, so a should be 5 as set in the except block\n",
    "print(a)"
   ]
  },
  {
   "cell_type": "code",
   "execution_count": 9,
   "metadata": {},
   "outputs": [
    {
     "name": "stdout",
     "output_type": "stream",
     "text": [
      "1.6666666666666667\n"
     ]
    }
   ],
   "source": [
    "## Try statement where try block executes succesfully\n",
    "try:\n",
    "    a = 10 / 6 ## Obviously, this will not cause an error\n",
    "except: \n",
    "    a = 5 ## We only execute this if we get an error in the try block (which in this case, we won't!)\n",
    "    \n",
    "\n",
    "## Notice, we don't get an error in the try block, so that code runs successfully\n",
    "## AND we don't execute the code in the except block!\n",
    "print(a)"
   ]
  },
  {
   "cell_type": "code",
   "execution_count": 14,
   "metadata": {},
   "outputs": [
    {
     "name": "stdout",
     "output_type": "stream",
     "text": [
      "Uh oh?!\n"
     ]
    }
   ],
   "source": [
    "## We can have multiple except blocks, along with a specific Error Type\n",
    "## the NAKED except will catch ALL remaining errors - like ELSE\n",
    "\n",
    "try:\n",
    "    # a = 10 / 0 # triggers first except block\n",
    "    # a = list(10) # triggers second except block\n",
    "    a = [2, 4, 6][20] ## Index out of bounds error - triggers last except block\n",
    "except ZeroDivisionError: \n",
    "    a = 5 ## We only execute here if we get a ZeroDivision Error\n",
    "except TypeError:\n",
    "    a = (2, 4, 6)\n",
    "except:\n",
    "    a = (\"Uh oh?!\")\n",
    "    \n",
    "\n",
    "## Notice, we don't get an error in the try block, so that code runs successfully\n",
    "## AND we don't execute the code in the except block!\n",
    "print(a)"
   ]
  },
  {
   "cell_type": "markdown",
   "metadata": {},
   "source": [
    "We also have two more keywords in a try-except statement. They are **else** and **finally**\n",
    "\n",
    "Both **else** and **finally** are OPTIONAL. They just help you control flow.\n",
    "\n",
    "**else** block will execute ONLY if NO EXCEPTION was encountered\n",
    "\n",
    "**finally** will execute no matter what - whether an exception was generated or not."
   ]
  },
  {
   "cell_type": "code",
   "execution_count": 57,
   "metadata": {},
   "outputs": [
    {
     "name": "stdout",
     "output_type": "stream",
     "text": [
      "pin is 0000\n",
      "pin is 0001\n",
      "pin is 0002\n",
      "pin is 0003\n",
      "pin is 0004\n",
      "pin is 0005\n",
      "0005\n"
     ]
    }
   ],
   "source": [
    "## Ex 102\n",
    "import random \n",
    "\n",
    "def login(username, pin):\n",
    "    print(\"pin is\", pin)\n",
    "    if pin == '0005':\n",
    "        return True\n",
    "    raise PermissionError \n",
    "\n",
    "def crack(username):\n",
    "    for fd in range(10):\n",
    "        for sd in range(10):\n",
    "            for td in range(10):\n",
    "                for ld in range(10):\n",
    "                    pin_g = (''.join([str(fd), str(sd), str(td), str(ld)]))\n",
    "                    try:\n",
    "                        login(username, str(pin_g))\n",
    "                        return str(pin_g)\n",
    "                    except PermissionError: \n",
    "                        continue\n",
    "\n",
    "a = crack(\"dorchuck\")\n",
    "print(a)"
   ]
  },
  {
   "cell_type": "code",
   "execution_count": null,
   "metadata": {},
   "outputs": [],
   "source": [
    "# Implement the class MacAddress\n",
    "\n",
    "# __init__ should accept a string that consists of 6 groups of 2 hexidecimal digits separated by colons (:) (e.g.) '01:23:45:67:89:AB'\n",
    "# is_multicast should return True if the address is multicast, otherwise False\n",
    "# organization should return the organization as a string according to the OUI dictionary class attribute. Return 'uknown' if the the\n",
    "#  first 3 bytes of the mac address do not exist in the OUI dictionary.\n",
    "# __str__ should return a string that consists of the originally provided mac address followed by the organization separated by a\n",
    "#  single space (e.g.) '01:23:45:67:89:AB unknown'\n",
    "# Refer to https://en.wikipedia.org/wiki/MAC_address for additional information on MAC addresses if needed\n",
    "\n",
    "\n"
   ]
  },
  {
   "cell_type": "code",
   "execution_count": 48,
   "metadata": {},
   "outputs": [
    {
     "name": "stdout",
     "output_type": "stream",
     "text": [
      "False\n",
      "da:a1:19:19:10:1a Google, Inc.\n"
     ]
    }
   ],
   "source": [
    "class MacAddress:\n",
    "    OUI = {\n",
    "        bytes([0xda,0xa1,0x19]): 'Google, Inc.',\n",
    "        bytes([0xca,0x12,0x5c]): 'Microsoft Corporation',\n",
    "        bytes([0x3b,0x35,0x41]): 'Raspberry Pi (Trading) Ltd',\n",
    "    }\n",
    "\n",
    "    def __init__(self,mac):\n",
    "        self.mac = mac \n",
    "\n",
    "    def is_multicast(self):\n",
    "        ## bit 8 of the first byte is 1 --> Multicast\n",
    "        temp = (int(self.mac[1], base=16))\n",
    "\n",
    "        last_bit_on = temp & 0b0001\n",
    "        if last_bit_on:\n",
    "            return True\n",
    "        return False \n",
    "\n",
    "    def organization(self):\n",
    "        org_bits = self.mac.split(':')[0:3]\n",
    "        org_bits = [(int(a, 16)) for a in org_bits]\n",
    "        bytes_vers = bytes(org_bits)\n",
    "        if bytes_vers in self.OUI:\n",
    "            return self.OUI[(bytes_vers)]\n",
    "        return \"unknown\"\n",
    "\n",
    "    def __str__(self):\n",
    "        org = self.organization()\n",
    "        return f\"{self.mac} {org}\"\n",
    "\n",
    "\n",
    "a = MacAddress(\"da:a1:19:19:10:1a\")\n",
    "print(a.is_multicast())\n",
    "print(a)"
   ]
  },
  {
   "cell_type": "code",
   "execution_count": 52,
   "metadata": {},
   "outputs": [
    {
     "name": "stdout",
     "output_type": "stream",
     "text": [
      "7\n",
      "28\n",
      "None\n",
      "16\n",
      "None\n",
      "336\n"
     ]
    }
   ],
   "source": [
    "\n",
    "class Calculator:\n",
    "    \n",
    "    def __init__(self):\n",
    "        self.last_result = 0\n",
    "        self.memory = 0\n",
    "\n",
    "    def set_xy(self, x, y):\n",
    "        if x == '':\n",
    "            x = self.last_result \n",
    "        if y == '':\n",
    "            y = self.last_result \n",
    "\n",
    "        if x == 'memory':\n",
    "            x = self.memory\n",
    "        if y == 'memory':\n",
    "            y = self.memory\n",
    "\n",
    "        return (x, y)\n",
    "\n",
    "    def add(self, x, y):\n",
    "        (x, y) = self.set_xy(x, y)\n",
    "        self.last_result = x + y\n",
    "        return self.last_result \n",
    "\n",
    "    def sub(self, x, y):\n",
    "        (x, y) = self.set_xy(x, y)\n",
    "        self.last_result = x - y\n",
    "        return self.last_result \n",
    "\n",
    "    def mul(self, x, y):\n",
    "        (x, y) = self.set_xy(x, y)\n",
    "        self.last_result = x * y\n",
    "        return self.last_result \n",
    "\n",
    "    def div(self, x, y):\n",
    "        (x, y) = self.set_xy(x, y)\n",
    "        self.last_result = x / y\n",
    "        return self.last_result \n",
    "\n",
    "    def store(self):\n",
    "        self.memory = self.last_result \n",
    "\n",
    "    def recall(self):\n",
    "        self.last_result = self.memory \n",
    "\n",
    "\n",
    "    def __str__(self):\n",
    "        return str(self.last_result)  \n",
    "\n",
    "\n",
    "a = Calculator()\n",
    "print(a.add(3, 4))\n",
    "print(a.mul('', 4))\n",
    "print(a.store())\n",
    "print(a.sub(19, 3))\n",
    "print(a.recall())\n",
    "print(a.mul(12, 'memory'))"
   ]
  },
  {
   "cell_type": "code",
   "execution_count": 55,
   "metadata": {},
   "outputs": [
    {
     "name": "stdout",
     "output_type": "stream",
     "text": [
      "[0, 0, 0] \n",
      "[0, 0, 0]\n",
      "[0, 0, 0]\n"
     ]
    }
   ],
   "source": [
    "class TicTacToe:\n",
    "\n",
    "    def __init__(self):\n",
    "        self.to_move = 1\n",
    "        self.board = [[0, 0, 0], [0, 0, 0], [0, 0, 0]]\n",
    "    \n",
    "    def determine_game_over(self):\n",
    "        ## Determine if we have a row win\n",
    "\n",
    "\n",
    "        ## Determine if we have a column win\n",
    "\n",
    "\n",
    "        ## Determine if we have a diagonal win\n",
    "\n",
    "\n",
    "        ## Determine if we have a draw\n",
    "\n",
    "        pass \n",
    "        \n",
    "\n",
    "    def move(self,row,col):\n",
    "        # Return 1 as an int if player 1 wins as a result of this move\n",
    "        # Return 2 as an int if player 2 wins as a result of this move\n",
    "        # Return 0 as an int if a draw results from this move\n",
    "        # Return None if nothing results from this move\n",
    "        # Raise an Exception for invalid moves\n",
    "        pass  \n",
    "\n",
    "    def __str__(self):\n",
    "        return f\"{self.board[0]} \\n{self.board[1]}\\n{self.board[2]}\"\n",
    "\n",
    "a = TicTacToe()\n",
    "print(a)"
   ]
  },
  {
   "cell_type": "code",
   "execution_count": 17,
   "metadata": {},
   "outputs": [
    {
     "name": "stdout",
     "output_type": "stream",
     "text": [
      "triangle: [90, 88, 2]\n",
      "triangle: [90, 87, 3]\n"
     ]
    }
   ],
   "source": [
    "class Polygon:\n",
    "    mapping = {3:\"triangle\", 4: \"quadrilateral\", 5: \"pentagon\",\t14:\"tetradecagon\",\n",
    "6:\"hexagon\",\t15:\"pentadecagon\",\n",
    "7:\"septagon\",\t16:\"hexadecagon\",\n",
    "8: \"octagon\",\t17:\"heptadecagon\",\n",
    "9: \"nonagon\",\t18:\"octadecagon\",\n",
    "10:\"decagon\",\t19:\"enneadecagon\",\n",
    "11:\"undecagon\",\t20:\"icosagon\",\n",
    "12: \"dodecagon\", 13:\"tridecagon\", \n",
    "}\n",
    "    def __init__(self):\n",
    "        self.angles = []\n",
    "    def add_angle(self, a):\n",
    "        if a < 0 or a == 180 or a > 359:\n",
    "            raise ValueError\n",
    "        self.angles.append(a)\n",
    "    def remove_angle(self, a):\n",
    "        i = self.angles.index(a)\n",
    "        # print(\"removing\", i)\n",
    "        try:\n",
    "            self.angles = self.angles[:i] + self.angles[i+1:]\n",
    "        except:\n",
    "            self.angles = self.angles[:i]\n",
    "    def __str__(self):\n",
    "        computed_last_angle = (len(self.angles) - 1) * 180 - sum(self.angles)\n",
    "\n",
    "        if len(self.angles) + 1 not in self.mapping:\n",
    "            raise ValueError\n",
    "        final = self.angles + [computed_last_angle]\n",
    "\n",
    "        if computed_last_angle < 0 or computed_last_angle == 180 or computed_last_angle > 359:\n",
    "            raise ValueError\n",
    "        return f\"{self.mapping[len(self.angles)+1]}: {final}\"\n",
    "\n",
    "a = Polygon()\n",
    "a.add_angle(90)\n",
    "a.add_angle(88)\n",
    "print(a)\n",
    "\n",
    "a.remove_angle(88)\n",
    "\n",
    "a.add_angle(87)\n",
    "print(a)\n"
   ]
  },
  {
   "cell_type": "code",
   "execution_count": 33,
   "metadata": {},
   "outputs": [
    {
     "name": "stdout",
     "output_type": "stream",
     "text": [
      "[1, 0, 0] \n",
      "[0, 0, 0] \n",
      "[0, 0, 0]\n",
      "\n",
      "[1, 0, 0] \n",
      "[0, 2, 0] \n",
      "[0, 0, 0]\n",
      "\n",
      "[1, 0, 0] \n",
      "[1, 2, 0] \n",
      "[0, 0, 0]\n",
      "\n",
      "[1, 0, 0] \n",
      "[1, 2, 0] \n",
      "[0, 2, 0]\n",
      "\n",
      "1\n",
      "\n"
     ]
    }
   ],
   "source": [
    "## TicTacToe \n",
    "class TicTacToe:\n",
    "\n",
    "    def __init__(self):\n",
    "        self.board = [[0, 0, 0],\n",
    "                    [0, 0, 0],\n",
    "                    [0, 0, 0]]\n",
    "        \n",
    "        self.move_counter = -1\n",
    "    \n",
    "    def move(self,row,col):\n",
    "        # Return 1 as an int if player 1 wins as a result of this move\n",
    "        # Return 2 as an int if player 2 wins as a result of this move\n",
    "        # Return 0 as an int if a draw results from this move\n",
    "        # Return None if nothing results from this move\n",
    "        # Raise an Exception for invalid moves\n",
    "        self.move_counter += 1\n",
    "        if row < 0 or row > 2 or col < 0 or col > 2:\n",
    "            raise Exception \n",
    "        \n",
    "        if self.board[row][col] != 0:\n",
    "            raise Exception \n",
    "\n",
    "        self.board[row][col] = (self.move_counter % 2) + 1\n",
    "\n",
    "        ## test win conditions\n",
    "        ## win by row\n",
    "        for row in self.board:\n",
    "            if len(set(row)) == 1 and row[0] != 0:\n",
    "                return row[0]\n",
    "\n",
    "\n",
    "        ## column win conditions\n",
    "        cols = [[row[i] for row in self.board] for i in range(3)]\n",
    "        # print(cols)\n",
    "        for col in cols:    \n",
    "            if len(set(col)) == 1 and col[0] != 0:\n",
    "                return col[0]\n",
    "\n",
    "\n",
    "\n",
    "        ## diagonal \n",
    "        if self.board[0][0] == self.board[1][1] and self.board[1][1] == self.board[2][2] and self.board[1][1] != 0:\n",
    "            return self.board[1][1] \n",
    "        \n",
    "        if self.board[2][0] == self.board[1][1] and self.board[1][1] == self.board[0][2] and self.board[1][1] != 0:\n",
    "            return self.board[1][1] \n",
    "        \n",
    "        ## test draw condition\n",
    "        any_zeros = any(filter(lambda x: 0 in x, self.board))\n",
    "        if not any_zeros:\n",
    "            return 0\n",
    "\n",
    "        ## return None if nothing results\n",
    "        return None \n",
    "\n",
    "\n",
    "        \n",
    "\n",
    "\n",
    "\n",
    "\n",
    "    def __str__(self):\n",
    "        return f\"{self.board[0]} \\n{self.board[1]} \\n{self.board[2]}\"\n",
    "\n",
    "\n",
    "a = TicTacToe()\n",
    "a.move(0, 0)\n",
    "print(a)\n",
    "print()\n",
    "a.move(1,1)\n",
    "print(a)\n",
    "\n",
    "print()\n",
    "a.move(1,0)\n",
    "print(a)\n",
    "\n",
    "print()\n",
    "a.move(2,1)\n",
    "print(a)\n",
    "\n",
    "print()\n",
    "ret = a.move(2,0)\n",
    "print(ret)\n",
    "\n",
    "print()\n",
    "\n",
    "\n",
    "\n"
   ]
  },
  {
   "cell_type": "code",
   "execution_count": 43,
   "metadata": {},
   "outputs": [
    {
     "name": "stdout",
     "output_type": "stream",
     "text": [
      "32\n"
     ]
    }
   ],
   "source": [
    "## Wise to Bit Wise\n",
    "def q1(filename, overwrite, bytestowrite):\n",
    "    final = 0\n",
    "    if filename == '':\n",
    "        final = final | 0x1\n",
    "    if overwrite:\n",
    "        final = final | 0x10\n",
    "\n",
    "    if bytestowrite > 1000000:\n",
    "        final = final | 0x20 \n",
    "    \n",
    "    return final\n",
    "\n",
    "a = q1(\"asd\", False, 10000000)\n",
    "print(a)\n"
   ]
  },
  {
   "cell_type": "code",
   "execution_count": null,
   "metadata": {},
   "outputs": [],
   "source": []
  }
 ],
 "metadata": {
  "kernelspec": {
   "display_name": "Python 3.8.10 64-bit",
   "language": "python",
   "name": "python3"
  },
  "language_info": {
   "codemirror_mode": {
    "name": "ipython",
    "version": 3
   },
   "file_extension": ".py",
   "mimetype": "text/x-python",
   "name": "python",
   "nbconvert_exporter": "python",
   "pygments_lexer": "ipython3",
   "version": "3.8.10"
  },
  "orig_nbformat": 4,
  "vscode": {
   "interpreter": {
    "hash": "916dbcbb3f70747c44a77c7bcd40155683ae19c65e1c03b4aa3499c5328201f1"
   }
  }
 },
 "nbformat": 4,
 "nbformat_minor": 2
}
