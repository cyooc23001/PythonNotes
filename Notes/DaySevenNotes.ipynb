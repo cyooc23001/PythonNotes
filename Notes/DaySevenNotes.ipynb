{
 "cells": [
  {
   "cell_type": "markdown",
   "metadata": {},
   "source": [
    "## Classes\n",
    "An object is defined what it HAS and what it CAN DO. \n",
    "\n",
    "A class is how we define objects. Then, there are specific instantiations of that object time. \n",
    "\n",
    "Example: we can define a class Marines. Every Marine has a rank. That is one of its **attributes**. \n",
    "\n",
    "Then, we can say that every Marine can do things - like drink beer and shoot. Those would be its **methods**. \n",
    "\n",
    "\n",
    "Classes are basically how we can define data types that we want to work with. Once upon a time, someone defined a class List, and now we use that class every day. A list has attributes - its elements. And it has methods (.append, .extend, len, +, etc, etc!)\n",
    "\n",
    "So, when we make a class, it's just an opportunity for us to define whatever objects we want!"
   ]
  },
  {
   "cell_type": "code",
   "execution_count": 2,
   "metadata": {},
   "outputs": [
    {
     "name": "stdout",
     "output_type": "stream",
     "text": [
      "MajGen Chesty Puller\n",
      "MajGen Sam Dorchuck\n"
     ]
    }
   ],
   "source": [
    "class Marine():\n",
    "    rank = \"MajGen\"\n",
    "    first = \"Chesty\" \n",
    "    last = \"Puller\"\n",
    "\n",
    "    def grunt(self):\n",
    "        print(\"Err {} {} {}\".format(self.rank, self.first, self.last))\n",
    "\n",
    "    \n",
    "    def __str__(self):\n",
    "        print(\"Oorah good morning, sir! This is {} {} {} ready to kill.\".format(self.rank, self.first, self.last))\n",
    "\n",
    "marine1 = Marine()\n",
    "marine2 = Marine() \n",
    "\n",
    "marine1.grunt()\n",
    "\n",
    "marine2.first = \"Sam\"\n",
    "marine2.last = \"Dorchuck\"\n",
    "marine2.grunt() ## has a nice ring to it I think?"
   ]
  },
  {
   "cell_type": "markdown",
   "metadata": {},
   "source": [
    "#### Object Oriented Programming \n",
    "Don't worry too much about these principles. It's more important that you can make a class. These are the esoteric principles. \n",
    "\n",
    "1. Encapsulation\n",
    "    Object keeps all its data private. You can only interact with an object through its public methods.\n",
    "\n",
    "2. Abstraction\n",
    "    - Each object only exposes a high-level method for using it. A public API. \n",
    "\n",
    "3. Inheritance\n",
    "    - Classes derive attributes and methods from parent classes!\n",
    "\n",
    "4. Polymorphism\n",
    "    - Provide a single interface to objects of different types BECAUSE those objects have the same parent class. \n"
   ]
  },
  {
   "cell_type": "markdown",
   "metadata": {},
   "source": [
    "On the test, it will be VERY explicit about how to make a class. These questions should be pretty close to free points, you just have to understand the syntax of how to set up the class. \n",
    "\n",
    "Ex: Create a class called **balloon**. It will have a method **climb()** that will increment the attribute *altitude* by 1.\n",
    "\n",
    "Here's what that code would look like:"
   ]
  },
  {
   "cell_type": "code",
   "execution_count": 6,
   "metadata": {},
   "outputs": [],
   "source": [
    "class Balloon: \n",
    "    def __init__(self):\n",
    "        ## this is used to INITIALIZE and INSTANCE of the class\n",
    "        self.altitude = 0\n",
    "\n",
    "    def climb(self):\n",
    "        self.altitude += 1\n",
    "\n",
    "    def __str__(self):\n",
    "        ## this is used to print out the specific instance of the class\n",
    "        return \"Current altitude: {}\".format(self.altitude)"
   ]
  },
  {
   "cell_type": "code",
   "execution_count": 7,
   "metadata": {},
   "outputs": [
    {
     "name": "stdout",
     "output_type": "stream",
     "text": [
      "Ball 1's altitude: Current altitude: 0\n",
      "Ball 2's altitude: Current altitude: 0\n",
      "\n",
      "Ball 1's altitude: Current altitude: 2\n",
      "Ball 2's altitude: Current altitude: 0\n"
     ]
    }
   ],
   "source": [
    "ball1 = Balloon()\n",
    "ball2 = Balloon() \n",
    "\n",
    "print(\"Ball 1's altitude:\", ball1)\n",
    "print(\"Ball 2's altitude:\", ball2)\n",
    "\n",
    "print()\n",
    "\n",
    "ball1.climb()\n",
    "ball1.climb()\n",
    "\n",
    "print(\"Ball 1's altitude:\", ball1)\n",
    "print(\"Ball 2's altitude:\", ball2)\n"
   ]
  },
  {
   "cell_type": "markdown",
   "metadata": {},
   "source": [
    "My best guess of what the test question on classes will look like:\n",
    "\n",
    "1. Make a class called \n",
    "2. "
   ]
  },
  {
   "cell_type": "markdown",
   "metadata": {},
   "source": [
    "## Error Handling\n",
    "This is a very easy lecture. You guys already understand how this works intuitively. Error handling is all about branching. \n",
    "\n",
    "Normally when you get an error in Python, it's all over. Call in the FPF and go home. The WHOLE script stops working!\n",
    "\n",
    "What if we want to keep running? We can tell Python \"Hey even if you give me an error, that's OK, I just want you to try this code and IF it turns out there's an error then we'll keep running in my EXCEPT block\"\n",
    "\n",
    "Here's an example:"
   ]
  },
  {
   "cell_type": "code",
   "execution_count": 8,
   "metadata": {},
   "outputs": [
    {
     "name": "stdout",
     "output_type": "stream",
     "text": [
      "5\n"
     ]
    }
   ],
   "source": [
    "## Try statement where try block causes error\n",
    "try:\n",
    "    a = 10 / 0 ## Obviously, this will cause an error. Good thing Python is only TRYing to run this part\n",
    "except: \n",
    "    a = 5 ## We only execute this if we get an error in the try block\n",
    "    \n",
    "\n",
    "## Notice how we get an error in the try block, so a should be 5 as set in the except block\n",
    "print(a)"
   ]
  },
  {
   "cell_type": "code",
   "execution_count": 9,
   "metadata": {},
   "outputs": [
    {
     "name": "stdout",
     "output_type": "stream",
     "text": [
      "1.6666666666666667\n"
     ]
    }
   ],
   "source": [
    "## Try statement where try block executes succesfully\n",
    "try:\n",
    "    a = 10 / 6 ## Obviously, this will not cause an error\n",
    "except: \n",
    "    a = 5 ## We only execute this if we get an error in the try block (which in this case, we won't!)\n",
    "    \n",
    "\n",
    "## Notice, we don't get an error in the try block, so that code runs successfully\n",
    "## AND we don't execute the code in the except block!\n",
    "print(a)"
   ]
  },
  {
   "cell_type": "code",
   "execution_count": 14,
   "metadata": {},
   "outputs": [
    {
     "name": "stdout",
     "output_type": "stream",
     "text": [
      "Uh oh?!\n"
     ]
    }
   ],
   "source": [
    "## We can have multiple except blocks, along with a specific Error Type\n",
    "## the NAKED except will catch ALL remaining errors - like ELSE\n",
    "\n",
    "try:\n",
    "    # a = 10 / 0 # triggers first except block\n",
    "    # a = list(10) # triggers second except block\n",
    "    a = [2, 4, 6][20] ## Index out of bounds error - triggers last except block\n",
    "except ZeroDivisionError: \n",
    "    a = 5 ## We only execute here if we get a ZeroDivision Error\n",
    "except TypeError:\n",
    "    a = (2, 4, 6)\n",
    "except:\n",
    "    a = (\"Uh oh?!\")\n",
    "    \n",
    "\n",
    "## Notice, we don't get an error in the try block, so that code runs successfully\n",
    "## AND we don't execute the code in the except block!\n",
    "print(a)"
   ]
  },
  {
   "cell_type": "markdown",
   "metadata": {},
   "source": [
    "We also have two more keywords in a try-except statement. They are **else** and **finally**\n",
    "\n",
    "Both **else** and **finally** are OPTIONAL. They just help you control flow.\n",
    "\n",
    "**else** block will execute ONLY if NO EXCEPTION was encountered\n",
    "\n",
    "**finally** will execute no matter what - whether an exception was generated or not."
   ]
  },
  {
   "cell_type": "code",
   "execution_count": null,
   "metadata": {},
   "outputs": [],
   "source": []
  }
 ],
 "metadata": {
  "kernelspec": {
   "display_name": "Python 3.8.10 64-bit",
   "language": "python",
   "name": "python3"
  },
  "language_info": {
   "codemirror_mode": {
    "name": "ipython",
    "version": 3
   },
   "file_extension": ".py",
   "mimetype": "text/x-python",
   "name": "python",
   "nbconvert_exporter": "python",
   "pygments_lexer": "ipython3",
   "version": "3.8.10"
  },
  "orig_nbformat": 4,
  "vscode": {
   "interpreter": {
    "hash": "916dbcbb3f70747c44a77c7bcd40155683ae19c65e1c03b4aa3499c5328201f1"
   }
  }
 },
 "nbformat": 4,
 "nbformat_minor": 2
}
