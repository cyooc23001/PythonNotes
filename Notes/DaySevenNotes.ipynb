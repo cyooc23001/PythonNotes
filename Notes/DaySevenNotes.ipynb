{
 "cells": [
  {
   "cell_type": "markdown",
   "metadata": {},
   "source": [
    "## Classes\n",
    "An object is defined what it HAS and what it CAN DO. \n",
    "\n",
    "A class is how we define objects. Then, there are specific instantiations of that object time. \n",
    "\n",
    "Example: we can define a class Marines. Every Marine has a rank. That is one of its **attributes**. \n",
    "\n",
    "Then, we can say that every Marine can do things - like drink beer and shoot. Those would be its **methods**. "
   ]
  },
  {
   "cell_type": "code",
   "execution_count": 2,
   "metadata": {},
   "outputs": [
    {
     "name": "stdout",
     "output_type": "stream",
     "text": [
      "MajGen Chesty Puller\n",
      "MajGen Sam Dorchuck\n"
     ]
    }
   ],
   "source": [
    "class Marine():\n",
    "    rank = \"MajGen\"\n",
    "    first = \"Chesty\" \n",
    "    last = \"Puller\"\n",
    "\n",
    "    def grunt(self):\n",
    "        print(\"Err {} {} {}\".format(self.rank, self.first, self.last))\n",
    "\n",
    "    \n",
    "    def __str__(self):\n",
    "        print(\"Oorah good morning, sir! This is {} {} {} ready to kill.\".format(self.rank, self.first, self.last))\n",
    "\n",
    "marine1 = Marine()\n",
    "marine2 = Marine() \n",
    "\n",
    "marine1.grunt()\n",
    "\n",
    "marine2.first = \"Sam\"\n",
    "marine2.last = \"Dorchuck\"\n",
    "marine2.grunt() ## has a nice ring to it I think?"
   ]
  },
  {
   "cell_type": "markdown",
   "metadata": {},
   "source": [
    "#### Object Oriented Programming \n",
    "Don't worry too much about these principles. It's more important that you can make a class. These are the esoteric principles. \n",
    "\n",
    "1. Encapsulation\n",
    "    Object keeps all its data private. You can only interact with an object through its public methods.\n",
    "\n",
    "2. Abstraction\n",
    "    - Each object only exposes a high-level method for using it. A public API. \n",
    "\n",
    "3. Inheritance\n",
    "    - Classes derive attributes and methods from parent classes!\n",
    "\n",
    "4. Polymorphism\n",
    "    - Provide a single interface to objects of different types BECAUSE those objects have the same parent class. \n"
   ]
  },
  {
   "cell_type": "markdown",
   "metadata": {},
   "source": [
    "On the test, it will be VERY explicit about how to make a class. These questions should be pretty close to free points, you just have to understand the syntax of how to set up the class. \n",
    "\n",
    "Ex: Create a class called **balloon**. It will have a method **climb()** that will increment the attribute *altitude* by 1.\n",
    "\n",
    "Here's what that code would look like:"
   ]
  },
  {
   "cell_type": "code",
   "execution_count": null,
   "metadata": {},
   "outputs": [],
   "source": [
    "class Balloon: \n",
    "    def __init__(self, ):"
   ]
  }
 ],
 "metadata": {
  "kernelspec": {
   "display_name": "Python 3.8.10 64-bit",
   "language": "python",
   "name": "python3"
  },
  "language_info": {
   "codemirror_mode": {
    "name": "ipython",
    "version": 3
   },
   "file_extension": ".py",
   "mimetype": "text/x-python",
   "name": "python",
   "nbconvert_exporter": "python",
   "pygments_lexer": "ipython3",
   "version": "3.8.10"
  },
  "orig_nbformat": 4,
  "vscode": {
   "interpreter": {
    "hash": "916dbcbb3f70747c44a77c7bcd40155683ae19c65e1c03b4aa3499c5328201f1"
   }
  }
 },
 "nbformat": 4,
 "nbformat_minor": 2
}
