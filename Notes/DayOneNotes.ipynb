{
 "cells": [
  {
   "cell_type": "markdown",
   "metadata": {},
   "source": [
    "## Day One Notes"
   ]
  },
  {
   "cell_type": "markdown",
   "metadata": {},
   "source": [
    "##### Why Python??\n",
    "- Interpreted - changes are faster but execution is slower than compiled languages\n",
    "- THOUSANDS of 3rd party libraries (numpy, pandas are my favorite)\n",
    "- Very easy to learn!\n",
    "    * Simple Syntax\n",
    "\n",
    "##### Typing: Dynamically Typed language\n",
    "- Every object has a type (int, list, tuple - these will make more sense as we go)\n",
    "- AN OBJECT is defined by what is has (attributes) and what it can do (methods)\n",
    "- Python will assign a type to the type at runtime. Assignment makes variable names, and the type of that variable can change throughout execution. \n",
    "* Example of re-typing: a_int = int(\"3\") --> converts the string \"3\" to the int 3\n",
    "\n",
    "Python is also strongly typed - when a value  \n",
    "\n",
    "\n",
    "Brief Intro to classes:\n",
    "- A class is defined by what is has (its attributes) and what it can do (methods)\n",
    "- An object is a SPECIFIC INSTANCE of a class\n"
   ]
  },
  {
   "cell_type": "markdown",
   "metadata": {},
   "source": [
    "#### REPL\n",
    "* Read, Evaluate, Print, Loop ---> typing \"python3\" at the terminal. \n",
    "* Useful for one or two commands/simple testing\n",
    "* Cntrl+L will clear the screen for REPL and for terminal"
   ]
  },
  {
   "cell_type": "markdown",
   "metadata": {},
   "source": [
    "#### Starts with a Sha-Bang!\n",
    "- Put #!/bin/python3  as the first line --> Only need when you're working in VIM.\n",
    "- With VS-Code - just save the file with a .py extension and VSCode will know that you're now working in Python. "
   ]
  },
  {
   "cell_type": "markdown",
   "metadata": {},
   "source": [
    "#### Add some Style!\n",
    "- You should conform to a style guide (when coding for real). For now, focus on the concepts.\n",
    "    * [PEP8](https://peps.python.org/pep-0008/) or [Google Style](https://google.github.io/styleguide/pyguide.html) guides\n",
    "- Documentation/comments are important (again, we'll see what that means)\n",
    "- Whitespace for a BLOCK of code MATTERS! Be consistent (either use tabs or spaces, NOT both you will die)\n",
    "- Whitespace on a line DOESN'T functionally matter, but stylistically should be consistent"
   ]
  },
  {
   "cell_type": "markdown",
   "metadata": {},
   "source": [
    "### Lesson Plan 112-SCRPY002: Variables, IO\n",
    "#### Built-In Types\n",
    "1. bool - boolean (**True** or **False**)\n",
    "2. int - Integers (whole numbers: 2, 3, 8, 0, -23)\n",
    "3. float - Floating Point Decimals (2.3, 92.512342344)\n",
    "4. str - String (\"abc\", \"ABC\", \"aBc\" --> case-sensitive text)\n",
    "5. tuple - IMMUTABLE sequence of items\n",
    "6. list - MUTABLE sequence of items\n",
    "\n",
    "#### MUTABILITY - brief intro: \n",
    "You can change the object! A list can have items added to it, removed from it, etc. Tuples cannot have any items removed/added. Tuples cannot be changed in memory."
   ]
  },
  {
   "cell_type": "markdown",
   "metadata": {},
   "source": [
    "* id(var) --> reveals memory address of the variable var\n",
    "* hex(id(var)) --> hex-a-decimal representation of the memory address of var \n",
    "\n",
    "Side bar into FUNCTIONS!\n",
    "hex() is a function. id() is a function. Anything with open-close parentheses is a function.\n",
    "\n",
    "BIG QUESTION PEOPLE HAD: Why is hex(id(var)) important?\n",
    "My answer: For now, it really IS NOT. Python is terrific because it handles all memory management for us! Other languages, namely C, aren't as friendly and require us to allocate blocks of memory/know where our variables live. So, for NOW, where variables live is irrelevant!\n",
    "In CCTC, when we get into buffer overflows - which is an attack vector we can use to hijack the control flow of a program - it becomes very relevant! Until then, please just ignore this hex(id(var)) function call. \n",
    "\n",
    "IMPORTANT - we need to use variables. We need to know which are mutable and which aren't. The professor was just trying to show with:\n",
    "```\n",
    "a = 7\n",
    "hex(id(a)) ## like 0x8540 maybe\n",
    "a = 8\n",
    "hex(id(a)) ## now  0x9524 for example\n",
    "```\n",
    "What's going on here? An 'int' is immutable - so we don't change the object in memory. We have to create a new object, and then move the variable name 'a' to point to the new object. That is the point the professor was driving at. Don't get too hung up on this. It's not crucial to understanding mutability/immutability.\n",
    "\n",
    "```\n",
    "a = [1, 2, 3]\n",
    "hex(id(a)) ## Say 0x6244\n",
    "a.append(7)\n",
    "hex(id(a)) ## Same! 0x6244\n",
    "a.pop()\n",
    "hex(id(a)) ## Same!! \n",
    "```\n"
   ]
  },
  {
   "cell_type": "code",
   "execution_count": 15,
   "metadata": {},
   "outputs": [],
   "source": [
    "#### VARIABLE ASSIGNMENT:\n",
    "## Left hand side of =  is the variable name!\n",
    "## The '=' single equals sign means assignment!\n",
    "## Right Hand side is the value that gets stored in the variable. \n",
    "f = False\n",
    "t = True \n",
    "\n",
    "\n",
    "## Ints\n",
    "a = 3\n",
    "b = 5\n",
    "\n",
    "## Floats\n",
    "a = 3.5 ## RE-Assignment of variable a - what is a now?\n",
    "c = 6.52341\n",
    "\n",
    "## str\n",
    "first_name = \"Sammy\"\n",
    "last_name = \"Dorchuck\"\n",
    "\n",
    "## lists \n",
    "things_Marines_are_good_at = [\"killing\", \"shooting guns\", \"drinking beer\",\n",
    "                            \"having awesome birthday balls\"]\n",
    "things_Army_is_good_at = [] ## this is known as the empty list!\n",
    "things_Army_is_good_at.append(\"Having dope Majors I'd follow into combat\")\n",
    "\n",
    "## tuple\n",
    "## SORRY CAN'T CHANGE THIS CUS IT's A TUPLE\n",
    "things_soldiers_are_good_at = (\"having tanks\", \"letting you keep your sleeves down all year round\") \n",
    "\n",
    "\n",
    "## SIDE-BAR: Don't name your variables a keyword - that will overwrite the keyword!!!\n",
    "\n"
   ]
  },
  {
   "cell_type": "markdown",
   "metadata": {},
   "source": [
    "### POST LUNCH POST PUMP READY TO KILL!"
   ]
  },
  {
   "cell_type": "code",
   "execution_count": 44,
   "metadata": {},
   "outputs": [
    {
     "name": "stdout",
     "output_type": "stream",
     "text": [
      "Zero indexed: 1\n",
      "Negative Indexing: 2\n",
      "Slice and Dice: [2, 3, 4]\n",
      "Append: \t\t[1, 2, 3, 4, 5, ['string', 1, 'weird list huh', 5.4]]\n",
      "Delete an item: \t[1, 2, 3, 5, ['string', 1, 'weird list huh', 5.4]]\n",
      "Add a list: \t\t[1, 2, 3, 5, ['string', 1, 'weird list huh', 5.4], 1, 'a', 'b', 'abc']\n",
      "Add a list shorthand: \t[1, 2, 3, 5, ['string', 1, 'weird list huh', 5.4], 1, 'a', 'b', 'abc', 3]\n",
      "In Place Modify: \t[1, 'b', 3, 5, ['string', 1, 'weird list huh', 5.4], 1, 'a', 'b', 'abc', 3]\n"
     ]
    }
   ],
   "source": [
    "## LIST FUNDAMENTALS!!!\n",
    "lst = [1, 2, 3, 4, 5]\n",
    "print(f\"Zero indexed: {lst[0]}\") ## 0-indexed!\n",
    "## Be careful of off by one-errors!\n",
    "## The term position USUALLY refers to normal counting\n",
    "## The term index ALWAYS refers to 0-index! \n",
    "\n",
    "\n",
    "## try going out of range\n",
    "# print(lst[156])\n",
    "\n",
    "## can do negative indexing! -1 is last elt, -2 is second to last\n",
    "print(f\"Negative Indexing: {lst[-4]}\")\n",
    "\n",
    "\n",
    "## Slice and dice! Includes lowest number, does not include highest number\n",
    "print(f\"Slice and Dice: {lst[1:4]}\") \n",
    "\n",
    "\n",
    "## Append - adds WHATEVER to the end of the list. Can be any type\n",
    "lst.append([\"string\", 1, \"weird list huh\", 5.4])\n",
    "print(f\"Append: \\t\\t{lst}\")\n",
    "\n",
    "## Delete stuff out of the list!\n",
    "del lst[3] ## deletes the 4\n",
    "print(f\"Delete an item: \\t{lst}\")\n",
    "\n",
    "## Can also add lists\n",
    "lst = lst + [1, 'a', 'b', \"abc\"]\n",
    "print(f\"Add a list: \\t\\t{lst}\")\n",
    "## Literally the same thing just shorthand \n",
    "lst += [3]\n",
    "print(f\"Add a list shorthand: \\t{lst}\")\n",
    "\n",
    "\n",
    "## In place modify!\n",
    "lst[1] = \"b\"\n",
    "print(f\"In Place Modify: \\t{lst}\")"
   ]
  },
  {
   "cell_type": "code",
   "execution_count": 46,
   "metadata": {},
   "outputs": [
    {
     "data": {
      "text/plain": [
       "3"
      ]
     },
     "execution_count": 46,
     "metadata": {},
     "output_type": "execute_result"
    }
   ],
   "source": [
    "## TUPLES!\n",
    "my_tup = (1, 2, 3, 4, 5, 10)\n",
    "\n",
    "## Can index\n",
    "my_tup[2]\n",
    "\n",
    "## CANNOT CHANGE:\n",
    "#my_tup[2] = 12 #--> uncommment to see error message"
   ]
  },
  {
   "cell_type": "markdown",
   "metadata": {},
   "source": [
    "Conversion! We can convert between data types!\n",
    "* bool()\n",
    "* int()\n",
    "* float()\n",
    "* str()\n",
    "* list()\n"
   ]
  },
  {
   "cell_type": "code",
   "execution_count": 59,
   "metadata": {},
   "outputs": [
    {
     "name": "stdout",
     "output_type": "stream",
     "text": [
      "3\n",
      "[1, 2, 3]\n",
      "Bool of 0: False\n",
      "Bool of Empty: False\n",
      "Bool of 15: True\n"
     ]
    }
   ],
   "source": [
    "## Type conversion\n",
    "\n",
    "## Convert float to int:\n",
    "a = int(3.8)\n",
    "print(a) ## Remember, we floor/truncate floats when converting to ints\n",
    "\n",
    "a = list((1, 2, 3))\n",
    "print(a)\n",
    "\n",
    "## Bool conversion\n",
    "a = bool(0) ## 0 is False!\n",
    "print(f\"Bool of 0: {a}\")\n",
    "\n",
    "### NOTE: None, empty list, empty tuple, empty string also evaluate to Flase; everything else is True\n",
    "a = bool(\"\")\n",
    "print(f\"Bool of Empty: {a}\")\n",
    "\n",
    "a = bool(15) ## Everything else is True\n",
    "print(f\"Bool of 15: {a}\") \n",
    "\n"
   ]
  },
  {
   "cell_type": "markdown",
   "metadata": {},
   "source": [
    "#### Mathematical Operations\n",
    "1. Addition  +\n",
    "2. Subtraction - \n",
    "3. Multiplication * \n",
    "4. Division / - Automatically float\n",
    "5. Integer Division // - Forced to be a float\n",
    "    a. 10 // 3 = 3\n",
    "6. Modulus %\n",
    "    a. 10 % 3 = 1\n",
    "7. Exponent **"
   ]
  },
  {
   "cell_type": "code",
   "execution_count": 25,
   "metadata": {},
   "outputs": [
    {
     "name": "stdout",
     "output_type": "stream",
     "text": [
      "['name', 'somewhere', 'com']\n"
     ]
    }
   ],
   "source": [
    "### ACTIVITY 1!\n",
    "email = \"name@somewhere.com\"\n",
    "email_split = email.split(\"@\")\n",
    "final_split = email_split[1].split(\".\")\n",
    "end = [email_split[0]]\n",
    "end.extend(final_split)\n",
    "\n",
    "print(end)"
   ]
  },
  {
   "cell_type": "markdown",
   "metadata": {},
   "source": [
    "#### String Manipulation"
   ]
  },
  {
   "cell_type": "code",
   "execution_count": 70,
   "metadata": {},
   "outputs": [
    {
     "name": "stdout",
     "output_type": "stream",
     "text": [
      "Format: \tHello Mr. Dorchuck\n",
      "String indexing: l\n",
      "Split: \t\t['Hello', 'Mr.', 'Dorchuck']\n",
      "List form: \t['H', 'e', 'l', 'l', 'o', ' ', 'M', 'r', '.', ' ', 'D', 'o', 'r', 'c', 'h', 'u', 'c', 'k']\n",
      "FINAL: \t\tJello Mr. Dorchuck\n"
     ]
    }
   ],
   "source": [
    "## String formatting with .format\n",
    "last_name = \"Dorchuck\"\n",
    "a = \"Hello Mr. {}\".format(last_name)\n",
    "print(f\"Format: \\t{a}\")\n",
    "\n",
    "## String Indexing Works\n",
    "print(f\"String indexing: {a[2]}\")\n",
    "\n",
    "## Cannot modify the string - it is IMMUTABLE!!\n",
    "#a[3] = \"s\" ## Uncomment to see error message!\n",
    "\n",
    "## Can split a string\n",
    "temp = a.split() ## by default, splits on whitespace; returns list\n",
    "print(f\"Split: \\t\\t{temp}\")\n",
    "\n",
    "new_temp = list(a)\n",
    "print(f\"List form: \\t{new_temp}\")\n",
    "new_temp[0] = \"J\"\n",
    "\n",
    "## JOIN IS A STRING METHOD!\n",
    "final = \"\".join(new_temp) \n",
    "print(f\"FINAL: \\t\\t{final}\")\n",
    "\n"
   ]
  },
  {
   "cell_type": "code",
   "execution_count": null,
   "metadata": {},
   "outputs": [],
   "source": []
  }
 ],
 "metadata": {
  "kernelspec": {
   "display_name": "Python 3.8.9 64-bit",
   "language": "python",
   "name": "python3"
  },
  "language_info": {
   "codemirror_mode": {
    "name": "ipython",
    "version": 3
   },
   "file_extension": ".py",
   "mimetype": "text/x-python",
   "name": "python",
   "nbconvert_exporter": "python",
   "pygments_lexer": "ipython3",
   "version": "3.8.9"
  },
  "orig_nbformat": 4,
  "vscode": {
   "interpreter": {
    "hash": "31f2aee4e71d21fbe5cf8b01ff0e069b9275f58929596ceb00d14d90e3e16cd6"
   }
  }
 },
 "nbformat": 4,
 "nbformat_minor": 2
}
