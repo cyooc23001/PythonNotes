{
 "cells": [
  {
   "cell_type": "code",
   "execution_count": null,
   "metadata": {
    "vscode": {
     "languageId": "shellscript"
    }
   },
   "outputs": [],
   "source": [
    "PROC=$(ps -elf | grep classification-banner | sed -n '1 p' | cut -d \" \" -f9)\n",
    "kill -9 $PROC  "
   ]
  },
  {
   "cell_type": "markdown",
   "metadata": {},
   "source": [
    "## Day Five Notes\n",
    "Outline - this is a relatively advanced lecture: \n",
    "* Python Standard Library\n",
    "    - Importing Modules\n",
    "    * Built-In Functions\n",
    "- Additional Data Structures\n",
    "    * Sets\n",
    "    * Dictionaries \n",
    "    * Argument Unpacking"
   ]
  },
  {
   "cell_type": "markdown",
   "metadata": {},
   "source": [
    "#### Importing Modules\n",
    "We can easily import modules from the Python Standard Library using the **import** command. \n",
    "To import a specific function, we use **from MODULE import function**"
   ]
  },
  {
   "cell_type": "code",
   "execution_count": 9,
   "metadata": {},
   "outputs": [
    {
     "name": "stdout",
     "output_type": "stream",
     "text": [
      "3.141592653589793\n",
      "import x: 3628800\n"
     ]
    }
   ],
   "source": [
    "import math\n",
    "print(math.pi) ## See how I had to type \"math.\" before using the constant pi\n",
    "## VS Code is very hepful here, it will attempt to autofill constants/functions after you type the \".\" \n",
    "## Instructor Mata is right on this - use VS Code to find names of functions and what those functions expect!\n",
    "## Plus, the docs are often very helpful\n",
    "\n",
    "## Example of calling a function\n",
    "ten_fact = math.factorial(10) ## .factorial returns a value\n",
    "print(f\"import x: {ten_fact}\")"
   ]
  },
  {
   "cell_type": "code",
   "execution_count": 13,
   "metadata": {},
   "outputs": [
    {
     "name": "stdout",
     "output_type": "stream",
     "text": [
      "from X import Y: 0.9912028118634736\n",
      "from X import Y as: 3.141592653589793\n",
      "Random ex: 7, 5\n"
     ]
    }
   ],
   "source": [
    "## Here's an example of importing a specific function\n",
    "from math import cos \n",
    "## Notice how I don't have to do \"math.\" before the cos because I imported the specific function\n",
    "print(f\"from X import Y: {cos(25)}\") \n",
    "\n",
    "from math import pi as my_pie_value \n",
    "## Now, I can call using a specific name that I WANT for this constant/function\n",
    "print(f\"from X import Y as: {my_pie_value}\") \n",
    "\n",
    "## Import multiple wanted functions\n",
    "from random import randint, choice\n",
    "print(f\"Random ex: {randint(0, 100)}, {choice([5, 6, 22])}\")"
   ]
  },
  {
   "cell_type": "markdown",
   "metadata": {},
   "source": []
  },
  {
   "cell_type": "markdown",
   "metadata": {},
   "source": [
    "#### if __name__ == \"__main__\": \n",
    "This is how we control the flow of a program when you import another custom-built Python file.\n",
    "By default, when you import one of the Python files that you've made, you will execute all the code in that file. Often, you don't want this - it will take lots of time, populate your namespace, and maybe provide print statements that confuse you. TO PREVENT THIS, WHENEVER YOU WILL IMPORT A FILE, you want to encapsulate all of that file's code in function blocks. Anything that is NOT in a function, should be inside the **if __name__ == '__main__':** conditional statement. \n",
    "\n",
    "Then, when you import a file, the code block inside the **if __name__ == '__main__':** will NOT run. \n",
    "\n",
    "This is confusing yes, I'm sorry. Let's look at an example:"
   ]
  },
  {
   "cell_type": "code",
   "execution_count": 21,
   "metadata": {},
   "outputs": [
    {
     "name": "stdout",
     "output_type": "stream",
     "text": [
      "Circle area is 452.3893421169302\n"
     ]
    }
   ],
   "source": [
    "## file hello1.py\n",
    "## When we import this file, it will run the print statement!\n",
    "\n",
    "## It's hard to illustrate importing a file in Jupyter notebooks, I'm sorry. If this is still super confusing, I will make some files to illustrate. \n",
    "import math\n",
    "def getCircleArea(radius):\n",
    "    return math.pi * radius**2\n",
    "print(\"Circle area is {}\".format(getCircleArea(float(input(\"Enter a circle radius: \")))))\n"
   ]
  },
  {
   "cell_type": "code",
   "execution_count": 2,
   "metadata": {},
   "outputs": [
    {
     "name": "stdout",
     "output_type": "stream",
     "text": [
      "Circle area is 452.3893421169302\n"
     ]
    }
   ],
   "source": [
    "## file hello2.py \n",
    "## Now, when we import this file, the print statement will NOT run!\n",
    "import math\n",
    "\n",
    "def getCircleArea(radius):\n",
    "    return math.pi * radius**2 \n",
    "\n",
    "if __name__ == \"__main__\":\n",
    "    print(\"Circle area is {}\".format(getCircleArea(float(input(\"Enter a circle radius: \")))))\n"
   ]
  },
  {
   "cell_type": "markdown",
   "metadata": {},
   "source": [
    "#### Additional Data Types\n",
    "We've already learned plenty - int, float, bool, tuple, list, (any others?!)\n",
    "Now, we learn two more. They are very, very useful. They are a bit more complicated but if you get these down, you have a lot more power to solve problems. \n",
    "Dictionaries and Sets."
   ]
  },
  {
   "cell_type": "markdown",
   "metadata": {},
   "source": [
    "Tuples and lists are known as sequence objects. They are collections of elements and they have AN ORDER. It makes sense to say \"Give me the 1st element of List X\". \n",
    "\n",
    "Dictionaries and Sets are NOT sequence objects. They are collections of elements BUT there is no ORDER to these elements. It makes NO sense to say \"I want the 1st element of Set Z\" because SETS DO NOT HAVE AN ORDER!"
   ]
  },
  {
   "cell_type": "code",
   "execution_count": 8,
   "metadata": {},
   "outputs": [
    {
     "name": "stdout",
     "output_type": "stream",
     "text": [
      "37\n",
      "22\n"
     ]
    }
   ],
   "source": [
    "## Tuple and list have a sense of ordering! \n",
    "numbers = [1, 5, 12, 22, 4, 37]\n",
    "print(numbers[5])\n",
    "\n",
    "numbers_tup = tuple(numbers)\n",
    "print(numbers_tup[3])"
   ]
  },
  {
   "cell_type": "code",
   "execution_count": 16,
   "metadata": {},
   "outputs": [
    {
     "name": "stdout",
     "output_type": "stream",
     "text": [
      "{'Dusty', 'Rudy', 'Iggy'}\n"
     ]
    }
   ],
   "source": [
    "## Sets have no sense of ordering!\n",
    "my_dogs = {\"Iggy\", \"Iggy\", \"Dusty\", \"Iggy\", \"Rudy\", \"Iggy\"}\n",
    "## Did I mention I have a dog named Iggy - he is a very good boy I will insert a picture into some Jupyter Notebook down the road\n",
    "print(my_dogs)\n",
    "\n",
    "## How dare they only include Iggy once!?! That is because sets ONLY INCLUDE each element once!!!"
   ]
  },
  {
   "cell_type": "code",
   "execution_count": 26,
   "metadata": {},
   "outputs": [
    {
     "name": "stdout",
     "output_type": "stream",
     "text": [
      "Gibbsy\n",
      "Dusty\n",
      "Rudy\n",
      "Iggy\n",
      "\n",
      "After adding my dogs are: {'Gibbsy', 'Dusty', 'Rudy', 'Iggy'}\n",
      "Do I have an Iggy? True\n",
      "Do I have a Fido? False\n",
      "\n",
      "Your dogs {'Normandy', 'Newton', 'Iggy'}\n",
      "All dogs: {'Dusty', 'Rudy', 'Normandy', 'Newton', 'Gibbsy', 'Iggy'}\n",
      "\n",
      "One way difference {'Gibbsy', 'Dusty', 'Rudy'}\n",
      "Other way difference {'Normandy', 'Newton'}\n",
      "\n",
      "Dogs in intersection {'Iggy'}\n"
     ]
    }
   ],
   "source": [
    "## Sets are just a collection of objects, but there is NO order and there are no duplicates. \n",
    "## Sets are mutable\n",
    "## We can simply iterate over a set\n",
    "for dog in my_dogs:\n",
    "    print(dog) \n",
    "\n",
    "## We can ADD to a set\n",
    "my_dogs.add(\"Gibbsy\")\n",
    "print(\"\\nAfter adding my dogs are:\", my_dogs)\n",
    "\n",
    "## We can check if an element is in a set. This is VERY efficient computationally! \n",
    "print(\"Do I have an Iggy?\", \"Iggy\" in my_dogs)\n",
    "print(\"Do I have a Fido?\", \"Fido\" in my_dogs)\n",
    "\n",
    "## Can do standard set operations: union, intersection, difference\n",
    "print() ## Adding a newline\n",
    "your_dogs = {\"Newton\", \"Iggy\", \"Normandy\"}\n",
    "print(\"Your dogs\", your_dogs)\n",
    "\n",
    "## Union is a collection of all elements in both sets\n",
    "## Think of union as an OR statement. Includes elements if they are in set 1 OR if they are in set 2\n",
    "all_dogs = my_dogs.union(your_dogs)\n",
    "print(\"All dogs:\", all_dogs)\n",
    "\n",
    "## Difference - elements the first set has that the second set does not have\n",
    "print() ## add a newline\n",
    "one_way = my_dogs.difference(your_dogs)\n",
    "print(\"One way difference\", one_way)\n",
    "other_way = your_dogs.difference(my_dogs) \n",
    "print(\"Other way difference\", other_way)\n",
    "\n",
    "## Last set operation is Intersection\n",
    "## Think of intersection as an AND statement. Includes elements if they are in set 1 AND they are in set 2. \n",
    "print() ## adding a newline\n",
    "overlap = my_dogs.intersection(your_dogs)\n",
    "print(\"Dogs in intersection\", overlap)\n",
    "\n",
    "\n",
    "\n"
   ]
  },
  {
   "cell_type": "markdown",
   "metadata": {},
   "source": []
  },
  {
   "cell_type": "markdown",
   "metadata": {},
   "source": [
    "#### Dictionaries\n",
    "Again, a very POWERFUL data structure. \n",
    "A dictionary consists of keys and values. Keys are the ID, values are each associated with a key. We use a key to POINT TO a value. \n",
    "\n",
    "For this class, keys should always be strings! \n",
    "Values are allowed to be WHATEVER you want!\n"
   ]
  },
  {
   "cell_type": "code",
   "execution_count": 29,
   "metadata": {},
   "outputs": [
    {
     "name": "stdout",
     "output_type": "stream",
     "text": [
      "10\n",
      "{'I': 1, 'V': 5, 'X': 10, 'L': 50, 'C': 100}\n"
     ]
    }
   ],
   "source": [
    "romanNumerals = {\"I\": 1, \"V\": 5, \"X\": 10, \"L\": 50}\n",
    "## Note here, [\"I\", \"V\", \"X\", \"L\"] are the KEYS\n",
    "## and [1, 5, 10, 50] are the values.\n",
    "## The relationship is such that:\n",
    "## \"I\" -----> 1\n",
    "## \"V\" -----> 5\n",
    "## \"X\" -----> 10\n",
    "## \"L\" -----> 50\n",
    "\n",
    "## Can \"index\" into a dictionary\n",
    "print(romanNumerals[\"X\"])\n",
    "\n",
    "## Can add an object to a dictionary\n",
    "romanNumerals[\"C\"] = 100\n",
    "print(romanNumerals)"
   ]
  },
  {
   "cell_type": "code",
   "execution_count": 32,
   "metadata": {},
   "outputs": [
    {
     "name": "stdout",
     "output_type": "stream",
     "text": [
      "Key: I, Value: 1\n",
      "Key: V, Value: 5\n",
      "Key: X, Value: 10\n",
      "Key: L, Value: 50\n",
      "Key: C, Value: 100\n"
     ]
    }
   ],
   "source": [
    "## Iterating over a dictionary is very fundamental:\n",
    "for key in romanNumerals:\n",
    "    value = romanNumerals[key]\n",
    "    print(\"Key: {}, Value: {}\".format(key, value))"
   ]
  },
  {
   "cell_type": "markdown",
   "metadata": {},
   "source": [
    "#### And we're talking about lambda\n",
    "YOU DON'T NEED TO KNOW LAMBDAS. Once again, I did not learn lambda until middle of my second semester of studying Computer Science. This is quite an advanced Python topic. We use it to declare one-line functions. It's VERY useful if you want to be a Python wizard and write one-liners. But, it's not very useful if you just want to understand the fundamentals of programming.  \n",
    "\n",
    "Like list comprehensions, lambda is a cool way to write clean, one-line Python code that can do a lot. But, every lambda one-liner can be unrolled into a multi-line standard function that is much easier to understand. Once agian, if you can understand the second, longer way of doing things - that is what you should focus on!! Y"
   ]
  },
  {
   "cell_type": "code",
   "execution_count": 38,
   "metadata": {},
   "outputs": [
    {
     "name": "stdout",
     "output_type": "stream",
     "text": [
      "102\n",
      "102\n"
     ]
    }
   ],
   "source": [
    "def f(x):\n",
    "    return x + 100\n",
    "g = lambda x: x + 100\n",
    "\n",
    "print(f(2))\n",
    "print(g(2)) ## They do the exact same thing. Cool"
   ]
  },
  {
   "cell_type": "code",
   "execution_count": 34,
   "metadata": {},
   "outputs": [
    {
     "name": "stdout",
     "output_type": "stream",
     "text": [
      "['I', 'V', 'X', 'L', 'C']\n"
     ]
    }
   ],
   "source": [
    "print(sorted(romanNumerals.keys(), key = lambda x: romanNumerals[x]))"
   ]
  },
  {
   "cell_type": "code",
   "execution_count": null,
   "metadata": {},
   "outputs": [],
   "source": []
  },
  {
   "cell_type": "markdown",
   "metadata": {},
   "source": [
    "#### *args and **kwargs\n",
    "All about passing multiple arguments into a function at once. Positional argumnets can be passed using a list; named arguments can be passed via a dictionary. \n",
    "\n",
    "When using a list, we place one asterix * in front of the list in the function parameters.\n",
    "\n",
    "When using a dictionary, we place two asterixes (asterices?) ** in front of the dictionary in the function parameters. \n",
    "\n",
    "Apparently we will have to use *args and **kwargs. Just takes reps"
   ]
  },
  {
   "cell_type": "code",
   "execution_count": 47,
   "metadata": {},
   "outputs": [
    {
     "name": "stdout",
     "output_type": "stream",
     "text": [
      "ARGS (1, 'maybe', 2, 3, 6, 12)\n",
      "arg 1\n",
      "arg maybe\n",
      "arg 2\n",
      "arg 3\n",
      "arg 6\n",
      "arg 12\n"
     ]
    }
   ],
   "source": [
    "## *args demo\n",
    "## how we can pass an arbitrary number of arguments\n",
    "\n",
    "def infiniteArgs(*args):\n",
    "    print(\"ARGS\", args)\n",
    "    ## by default, args are pushed into a tuple. You can iterate through this tuple. \n",
    "    if args:\n",
    "        for arg in args:\n",
    "            print(\"arg\", arg)\n",
    "    else:\n",
    "        print(\"YOU DIDN'T GIVE ME ANY ARGS\")\n",
    "\n",
    "infiniteArgs(1, \"maybe\", 2, 3, 6, 12)"
   ]
  },
  {
   "cell_type": "code",
   "execution_count": 48,
   "metadata": {},
   "outputs": [
    {
     "name": "stdout",
     "output_type": "stream",
     "text": [
      "a\n",
      "test\n",
      "b\n",
      "maybe\n",
      "c\n",
      "better\n"
     ]
    }
   ],
   "source": [
    "## **kwargs demo\n",
    "## how we can pass an arbitrary number of named arguments\n",
    "def infiniteNamedArgs(**kwargs):\n",
    "    for key in kwargs:\n",
    "        print(key)\n",
    "        print(kwargs[key])\n",
    "\n",
    "infiniteNamedArgs(a = \"test\", b = \"maybe\", c = \"better\")"
   ]
  },
  {
   "cell_type": "code",
   "execution_count": null,
   "metadata": {},
   "outputs": [],
   "source": [
    "## Exercise 19\n",
    "def grab(lst):\n",
    "    '''\n",
    "    Returns a randomly chosen item from the given list (lst).\n",
    "    Args:\n",
    "        lst (list): a list of items\n",
    "    Returns:\n",
    "        item (?): an item from the list\n",
    "    '''    \n",
    "    import random\n",
    "    return random.choice(lst)"
   ]
  },
  {
   "cell_type": "code",
   "execution_count": 50,
   "metadata": {},
   "outputs": [
    {
     "name": "stdout",
     "output_type": "stream",
     "text": [
      "144\n"
     ]
    }
   ],
   "source": [
    "## Exercise 21\n",
    "\n",
    "def find_product(a, b):\n",
    "    return a*b\n",
    "\n",
    "if __name__ == \"__main__\":\n",
    "    inp1 = input()\n",
    "    inp2 = input()\n",
    "    print(find_product(int(inp1), int(inp2)))"
   ]
  },
  {
   "cell_type": "code",
   "execution_count": 52,
   "metadata": {},
   "outputs": [
    {
     "data": {
      "text/plain": [
       "'e1ac5446165bc0cf31e41056bceec6bd719284175777af0a6bb10bd2cf4e9e9d'"
      ]
     },
     "execution_count": 52,
     "metadata": {},
     "output_type": "execute_result"
    }
   ],
   "source": [
    "## Exercise 20 \n",
    "def get_hash(data=\"python\"):\n",
    "    '''\n",
    "    Returns the SHA3 256-bit hash of the data provided.\n",
    "    You will need to use the hashlib python library to complete this challenge.\n",
    "       \n",
    "    NOTE: The first call will use the string \"python\" later calls will use random strings\n",
    "    NOTE: You can convert a string into a bytes-like object which is needed for hashing with: \n",
    "             \n",
    "    data.encode(\"utf-8\")\n",
    "    \n",
    "    NOTE: You can create a bytes-like object out of a literal by adding a b in front of the string, ie b\"python\" or b'python'\n",
    "       \n",
    "    Args:\n",
    "        data (str): data to be encoded\n",
    "    Returns:\n",
    "        str : The SHA3 256-bit hash of the provided data\n",
    "    '''    \n",
    "    import hashlib\n",
    "    m = hashlib.sha3_256()\n",
    "    m.update(data.encode(\"utf-8\"))\n",
    "    return m.hexdigest()\n",
    "\n",
    "get_hash()"
   ]
  },
  {
   "cell_type": "code",
   "execution_count": 56,
   "metadata": {},
   "outputs": [
    {
     "data": {
      "text/plain": [
       "['Fi!',\n",
       " 'Oorah',\n",
       " 'This',\n",
       " 'file',\n",
       " 'mile?',\n",
       " 'the',\n",
       " 'test',\n",
       " 'show',\n",
       " 'Marine',\n",
       " 'way!',\n",
       " 'had',\n",
       " 'time',\n",
       " 'best',\n",
       " 'to',\n",
       " 'on',\n",
       " 'IO.',\n",
       " 'a',\n",
       " 'is',\n",
       " 'ACFT',\n",
       " 'Rangers',\n",
       " 'two',\n",
       " 'File',\n",
       " \"That's\",\n",
       " 'why',\n",
       " 'lead']"
      ]
     },
     "execution_count": 56,
     "metadata": {},
     "output_type": "execute_result"
    }
   ],
   "source": [
    "## Ex 24\n",
    "def diffwords(fname, words):\n",
    "    with open(fname) as fp:\n",
    "        file_words = fp.read()\n",
    "\n",
    "    file_words_no_whitespace = file_words.split()\n",
    "    file_words_set = set(file_words_no_whitespace) \n",
    "\n",
    "    in_file_not_list = file_words_set.difference(set(words))\n",
    "    return list(in_file_not_list)\n",
    "\n",
    "diffwords(\"data.txt\", [\"this\", \"Semper\"])\n"
   ]
  },
  {
   "cell_type": "code",
   "execution_count": 55,
   "metadata": {},
   "outputs": [
    {
     "data": {
      "text/plain": [
       "{'This': 1,\n",
       " 'is': 1,\n",
       " 'a': 2,\n",
       " 'test': 1,\n",
       " 'file': 1,\n",
       " 'to': 1,\n",
       " 'show': 1,\n",
       " 'File': 1,\n",
       " 'IO.': 1,\n",
       " 'Oorah': 1,\n",
       " 'Rangers': 1,\n",
       " 'lead': 1,\n",
       " 'the': 3,\n",
       " 'way!': 1,\n",
       " \"That's\": 1,\n",
       " 'why': 1,\n",
       " 'Marine': 1,\n",
       " 'had': 1,\n",
       " 'best': 1,\n",
       " 'time': 1,\n",
       " 'on': 1,\n",
       " 'ACFT': 1,\n",
       " 'two': 1,\n",
       " 'mile?': 1,\n",
       " 'Semper': 1,\n",
       " 'Fi!': 1}"
      ]
     },
     "execution_count": 55,
     "metadata": {},
     "output_type": "execute_result"
    }
   ],
   "source": [
    "## Ex 25\n",
    "def count_words(filepath):\n",
    "    '''\n",
    "    Count the occurrences of each word in the file. Create a dictionary that contains each word in the file as a key\n",
    "    and the value for each key will contain the number of times each words is found in the file. Words will be\n",
    "    separated by one or more whitespace characters spread over multiple lines.\n",
    "       \n",
    "    Args:\n",
    "        filepath (str): The path to the file\n",
    "    Returns:\n",
    "        dict : keys - words\n",
    "               values - number of times each word appears\n",
    "    '''\n",
    "    from collections import Counter \n",
    "    ans = {}\n",
    "    with open(filepath) as fp:\n",
    "        all_words = fp.read()\n",
    "\n",
    "    all_words_no_whitespace = all_words.split()\n",
    "\n",
    "    ## to populate a dictionary manually\n",
    "    for word in all_words_no_whitespace:\n",
    "        if word in ans:\n",
    "            ans[word] += 1\n",
    "        else:\n",
    "            ans[word] = 1\n",
    "\n",
    "    return ans \n",
    "    # return dict(Counter(all_words_no_whitespace))\n",
    "\n",
    "count_words('data.txt')"
   ]
  },
  {
   "cell_type": "code",
   "execution_count": 65,
   "metadata": {},
   "outputs": [
    {
     "data": {
      "text/plain": [
       "['Oorah Rangers lead the way!',\n",
       " 'Semper Fi!',\n",
       " \"That's why a Marine had the best time on the ACFT two mile?\",\n",
       " 'This is a test file to show File IO.']"
      ]
     },
     "execution_count": 65,
     "metadata": {},
     "output_type": "execute_result"
    }
   ],
   "source": [
    "## Ex 27 \n",
    "def sort_ascii(filepath):\n",
    "    '''\n",
    "    Read all lines from file in `filepath` and return a list of all lines in case-insensitive ASCII order.\n",
    "    Remove all linebreaks before sorting.\n",
    "       \n",
    "    Args:\n",
    "        filepath (str): The path to the file\n",
    "    Returns:\n",
    "        list : lines from input file sorted into ASCII order without linebreaks\n",
    "    '''\n",
    "    with open(filepath) as fp:\n",
    "        lines = fp.readlines()\n",
    "\n",
    "    no_whitespace_lines = []\n",
    "    for line in lines:\n",
    "        no_whitespace_lines.append(line.strip())\n",
    "\n",
    "    a = sorted(no_whitespace_lines, key = lambda x: x.lower())\n",
    "    return a\n",
    "\n",
    "        \n",
    "\n",
    "sort_ascii(\"data.txt\")\n"
   ]
  },
  {
   "cell_type": "code",
   "execution_count": 66,
   "metadata": {},
   "outputs": [
    {
     "data": {
      "text/plain": [
       "[\"That's why a Marine had the best time on the ACFT two mile?\",\n",
       " 'This is a test file to show File IO.',\n",
       " 'Oorah Rangers lead the way!',\n",
       " 'Semper Fi!']"
      ]
     },
     "execution_count": 66,
     "metadata": {},
     "output_type": "execute_result"
    }
   ],
   "source": [
    "## Ex 28\n",
    "def sort_length(filepath):\n",
    "    '''\n",
    "    Read all lines from file in `filepath` and return a list of all lines sorted longest to shortest.\n",
    "    Remove all linebreaks before sorting.\n",
    "       \n",
    "    Args:\n",
    "        filepath (str): The path to the file\n",
    "    Returns:\n",
    "        list : lines from input file sorted longest to shortest without linebreaks\n",
    "    '''\n",
    "    with open(filepath) as fp:\n",
    "        lines = fp.readlines()\n",
    "\n",
    "    no_whitespacelines = [line.strip() for line in lines ]\n",
    "    ans = sorted(no_whitespacelines, key = lambda x: len(x), reverse = True)\n",
    "    return ans \n",
    "\n",
    "sort_length(\"data.txt\")\n",
    "\n",
    "\n"
   ]
  },
  {
   "cell_type": "code",
   "execution_count": 81,
   "metadata": {},
   "outputs": [
    {
     "data": {
      "text/plain": [
       "['  re is a561234 long line of text from the file.    ', 'Different000420']"
      ]
     },
     "execution_count": 81,
     "metadata": {},
     "output_type": "execute_result"
    }
   ],
   "source": [
    "## Ex 29\n",
    "def sort_embedded(filepath):\n",
    "    '''\n",
    "    Read all lines from file in `filepath` and return a list of all lines sorted numerically by\n",
    "    the number at character positions 10 to 15 in each line..\n",
    "    Remove all linebreaks before sorting.\n",
    "    \n",
    "    Example: The embedded number is 561234 below.\n",
    "    Here is a561234 long line of text from the file.\n",
    "       \n",
    "    Args:\n",
    "        filepath (str): The path to the file\n",
    "    Returns:\n",
    "        list : lines from input file numerically sorted on the embedded number without linebreaks\n",
    "    '''\n",
    "    with open(filepath) as fp:\n",
    "        lines = fp.readlines()\n",
    "\n",
    "    no_whitespacelines = [line.strip(\"\\n\") for line in lines]\n",
    "    ans = sorted(no_whitespacelines, reverse = True, key = lambda x: int(x[9:15]))\n",
    "\n",
    "    return ans\n",
    "\n",
    "sort_embedded(\"embedded.txt\")"
   ]
  },
  {
   "cell_type": "code",
   "execution_count": null,
   "metadata": {},
   "outputs": [],
   "source": []
  },
  {
   "cell_type": "markdown",
   "metadata": {},
   "source": []
  }
 ],
 "metadata": {
  "kernelspec": {
   "display_name": "Python 3.8.10 64-bit",
   "language": "python",
   "name": "python3"
  },
  "language_info": {
   "codemirror_mode": {
    "name": "ipython",
    "version": 3
   },
   "file_extension": ".py",
   "mimetype": "text/x-python",
   "name": "python",
   "nbconvert_exporter": "python",
   "pygments_lexer": "ipython3",
   "version": "3.8.10"
  },
  "orig_nbformat": 4,
  "vscode": {
   "interpreter": {
    "hash": "916dbcbb3f70747c44a77c7bcd40155683ae19c65e1c03b4aa3499c5328201f1"
   }
  }
 },
 "nbformat": 4,
 "nbformat_minor": 2
}
