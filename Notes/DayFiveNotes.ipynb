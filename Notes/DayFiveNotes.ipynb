{
 "cells": [
  {
   "cell_type": "code",
   "execution_count": null,
   "metadata": {
    "vscode": {
     "languageId": "shellscript"
    }
   },
   "outputs": [],
   "source": [
    "PROC=$(ps -elf | grep classification-banner | sed -n '1 p' | cut -d \" \" -f9)\n",
    "kill -9 $PROC  "
   ]
  },
  {
   "cell_type": "markdown",
   "metadata": {},
   "source": [
    "## Day Five Notes\n",
    "Outline - this is a relatively advanced lecture: \n",
    "* Python Standard Library\n",
    "    - Importing Modules\n",
    "    * Built-In Functions\n",
    "- Additional Data Structures\n",
    "    * Sets\n",
    "    * Dictionaries \n",
    "    * Argument Unpacking"
   ]
  },
  {
   "cell_type": "markdown",
   "metadata": {},
   "source": [
    "#### Importing Modules\n",
    "We can easily import modules from the Python Standard Library using the **import** command. \n",
    "To import a specific function, we use **from MODULE import function**"
   ]
  },
  {
   "cell_type": "code",
   "execution_count": 9,
   "metadata": {},
   "outputs": [
    {
     "name": "stdout",
     "output_type": "stream",
     "text": [
      "3.141592653589793\n",
      "import x: 3628800\n"
     ]
    }
   ],
   "source": [
    "import math\n",
    "print(math.pi) ## See how I had to type \"math.\" before using the constant pi\n",
    "## VS Code is very hepful here, it will attempt to autofill constants/functions after you type the \".\" \n",
    "## Instructor Mata is right on this - use VS Code to find names of functions and what those functions expect!\n",
    "## Plus, the docs are often very helpful\n",
    "\n",
    "## Example of calling a function\n",
    "ten_fact = math.factorial(10) ## .factorial returns a value\n",
    "print(f\"import x: {ten_fact}\")"
   ]
  },
  {
   "cell_type": "code",
   "execution_count": 13,
   "metadata": {},
   "outputs": [
    {
     "name": "stdout",
     "output_type": "stream",
     "text": [
      "from X import Y: 0.9912028118634736\n",
      "from X import Y as: 3.141592653589793\n",
      "Random ex: 7, 5\n"
     ]
    }
   ],
   "source": [
    "## Here's an example of importing a specific function\n",
    "from math import cos \n",
    "## Notice how I don't have to do \"math.\" before the cos because I imported the specific function\n",
    "print(f\"from X import Y: {cos(25)}\") \n",
    "\n",
    "from math import pi as my_pie_value \n",
    "## Now, I can call using a specific name that I WANT for this constant/function\n",
    "print(f\"from X import Y as: {my_pie_value}\") \n",
    "\n",
    "## Import multiple wanted functions\n",
    "from random import randint, choice\n",
    "print(f\"Random ex: {randint(0, 100)}, {choice([5, 6, 22])}\")"
   ]
  },
  {
   "cell_type": "markdown",
   "metadata": {},
   "source": []
  },
  {
   "cell_type": "markdown",
   "metadata": {},
   "source": [
    "#### if __name__ == \"__main__\": \n",
    "This is how we control the flow of a program when you import another custom-built Python file.\n",
    "By default, when you import one of the Python files that you've made, you will execute all the code in that file. Often, you don't want this - it will take lots of time, populate your namespace, and maybe provide print statements that confuse you. TO PREVENT THIS, WHENEVER YOU WILL IMPORT A FILE, you want to encapsulate all of that file's code in function blocks. Anything that is NOT in a function, should be inside the **if __name__ == '__main__':** conditional statement. \n",
    "\n",
    "Then, when you import a file, the code block inside the **if __name__ == '__main__':** will NOT run. \n",
    "\n",
    "This is confusing yes, I'm sorry. Let's look at an example:"
   ]
  },
  {
   "cell_type": "code",
   "execution_count": 21,
   "metadata": {},
   "outputs": [
    {
     "name": "stdout",
     "output_type": "stream",
     "text": [
      "Circle area is 452.3893421169302\n"
     ]
    }
   ],
   "source": [
    "## file hello1.py\n",
    "## When we import this file, it will run the print statement!\n",
    "\n",
    "## It's hard to illustrate importing a file in Jupyter notebooks, I'm sorry. If this is still super confusing, I will make some files to illustrate. \n",
    "import math\n",
    "def getCircleArea(radius):\n",
    "    return math.pi * radius**2\n",
    "print(\"Circle area is {}\".format(getCircleArea(float(input(\"Enter a circle radius: \")))))\n"
   ]
  },
  {
   "cell_type": "code",
   "execution_count": 1,
   "metadata": {},
   "outputs": [
    {
     "ename": "ValueError",
     "evalue": "could not convert string to float: ''",
     "output_type": "error",
     "traceback": [
      "\u001b[0;31m---------------------------------------------------------------------------\u001b[0m",
      "\u001b[0;31mValueError\u001b[0m                                Traceback (most recent call last)",
      "Cell \u001b[0;32mIn [1], line 9\u001b[0m\n\u001b[1;32m      6\u001b[0m     \u001b[39mreturn\u001b[39;00m math\u001b[39m.\u001b[39mpi \u001b[39m*\u001b[39m radius\u001b[39m*\u001b[39m\u001b[39m*\u001b[39m\u001b[39m2\u001b[39m \n\u001b[1;32m      8\u001b[0m \u001b[39mif\u001b[39;00m \u001b[39m__name__\u001b[39m \u001b[39m==\u001b[39m \u001b[39m\"\u001b[39m\u001b[39m__main__\u001b[39m\u001b[39m\"\u001b[39m:\n\u001b[0;32m----> 9\u001b[0m     \u001b[39mprint\u001b[39m(\u001b[39m\"\u001b[39m\u001b[39mCircle area is \u001b[39m\u001b[39m{}\u001b[39;00m\u001b[39m\"\u001b[39m\u001b[39m.\u001b[39mformat(getCircleArea(\u001b[39mfloat\u001b[39;49m(\u001b[39minput\u001b[39;49m(\u001b[39m\"\u001b[39;49m\u001b[39mEnter a circle radius: \u001b[39;49m\u001b[39m\"\u001b[39;49m)))))\n",
      "\u001b[0;31mValueError\u001b[0m: could not convert string to float: ''"
     ]
    }
   ],
   "source": [
    "## file hello2.py \n",
    "## Now, when we import this file, the print statement will NOT run!\n",
    "import math\n",
    "\n",
    "def getCircleArea(radius):\n",
    "    return math.pi * radius**2 \n",
    "\n",
    "if __name__ == \"__main__\":\n",
    "    print(\"Circle area is {}\".format(getCircleArea(float(input(\"Enter a circle radius: \")))))\n"
   ]
  },
  {
   "cell_type": "code",
   "execution_count": null,
   "metadata": {},
   "outputs": [],
   "source": []
  }
 ],
 "metadata": {
  "kernelspec": {
   "display_name": "Python 3.8.10 64-bit",
   "language": "python",
   "name": "python3"
  },
  "language_info": {
   "codemirror_mode": {
    "name": "ipython",
    "version": 3
   },
   "file_extension": ".py",
   "mimetype": "text/x-python",
   "name": "python",
   "nbconvert_exporter": "python",
   "pygments_lexer": "ipython3",
   "version": "3.8.10"
  },
  "orig_nbformat": 4,
  "vscode": {
   "interpreter": {
    "hash": "916dbcbb3f70747c44a77c7bcd40155683ae19c65e1c03b4aa3499c5328201f1"
   }
  }
 },
 "nbformat": 4,
 "nbformat_minor": 2
}
