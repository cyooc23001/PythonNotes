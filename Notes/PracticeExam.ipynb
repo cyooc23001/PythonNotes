{
 "cells": [
  {
   "cell_type": "code",
   "execution_count": 7,
   "metadata": {},
   "outputs": [
    {
     "name": "stdout",
     "output_type": "stream",
     "text": [
      "strategy on masterpiece a as accepted is it\n"
     ]
    }
   ],
   "source": [
    "## Q1 \n",
    "def q1(sentence):\n",
    "    \n",
    "    final = sentence.split()\n",
    "    reversed = final[::-1]\n",
    "    ans = \" \".join(reversed)\n",
    "    return ans\n",
    "\n",
    "    ## if you want a one-liner\n",
    "    return \" \".join(sentence.split()[::-1])\n",
    "\n",
    "test = 'it is accepted as a masterpiece on strategy'\n",
    "print(q1(test))"
   ]
  },
  {
   "cell_type": "code",
   "execution_count": 13,
   "metadata": {},
   "outputs": [
    {
     "name": "stdout",
     "output_type": "stream",
     "text": [
      "9,231,622\n"
     ]
    }
   ],
   "source": [
    "## Q2\n",
    "def q1(n):\n",
    "    counter = 0\n",
    "    final = []\n",
    "    for digit in str(n)[::-1]:\n",
    "        final.append(digit)\n",
    "        \n",
    "        if counter == 2:\n",
    "            final.append(\",\")\n",
    "            counter = -1\n",
    "        counter += 1\n",
    "    \n",
    "    return \"\".join(final)[::-1]\n",
    "\n",
    "print(q1(9231622))"
   ]
  },
  {
   "cell_type": "code",
   "execution_count": 15,
   "metadata": {},
   "outputs": [
    {
     "data": {
      "text/plain": [
       "[9, 8, 5, 4, 3, 1]"
      ]
     },
     "execution_count": 15,
     "metadata": {},
     "output_type": "execute_result"
    }
   ],
   "source": [
    "## Q 3\n",
    "## Remember that we have sorted!\n",
    "def q1(lst0, lst1):\n",
    "    return sorted(lst0 + lst1, reverse=True) \n",
    "\n",
    "    ## or if you forgot the reverse keyword argument\n",
    "    return sorted(lst0 + lst1)[::-1]\n",
    "\n",
    "q1([3, 4, 9], [8, 1, 5])\n"
   ]
  },
  {
   "cell_type": "code",
   "execution_count": null,
   "metadata": {},
   "outputs": [],
   "source": [
    "## Q4\n",
    "def q1(s1,s2,s3):\n",
    "    avg = (s1 + s2 + s3)  / 3\n",
    "    if avg > 50:\n",
    "        return \"GO\"\n",
    "    else:\n",
    "        return \"NOGO\"\n"
   ]
  },
  {
   "cell_type": "code",
   "execution_count": 20,
   "metadata": {},
   "outputs": [
    {
     "data": {
      "text/plain": [
       "[0, 6, 12, 18, 24, 30]"
      ]
     },
     "execution_count": 20,
     "metadata": {},
     "output_type": "execute_result"
    }
   ],
   "source": [
    "## Q5 \n",
    "\n",
    "def q1(integer, limit):\n",
    "    return [x for x in range(0, limit+1, 2) if x % integer == 0 ]\n",
    "\n",
    "q1(3, 30)\n"
   ]
  },
  {
   "cell_type": "code",
   "execution_count": null,
   "metadata": {},
   "outputs": [],
   "source": [
    "## Q6 \n",
    "def q1(f0, f1):\n",
    "    with open(f0) as fp, open(f1) as fi:\n",
    "        lines_0 = fp.readlines()\n",
    "        lines_1 = fi.readlines() \n",
    "\n",
    "    temp = [] \n",
    "    smaller_length = min(len(lines_0), len(lines_1))\n",
    "    \n",
    "    for i in range(smaller_length):\n",
    "        if lines_0[i] != lines_1[i]:\n",
    "            temp.append(i)\n",
    "    return temp\n"
   ]
  },
  {
   "cell_type": "code",
   "execution_count": null,
   "metadata": {},
   "outputs": [],
   "source": [
    "## Q7\n",
    "def q7(lst):\n",
    "    seen = set()\n",
    "    for elt in lst:\n",
    "        if elt in seen:\n",
    "            return elt\n",
    "        seen.add(elt)\n"
   ]
  },
  {
   "cell_type": "code",
   "execution_count": null,
   "metadata": {},
   "outputs": [],
   "source": [
    "## Q8\n",
    "def q8(strng): \n",
    "    list_form = strng.split(\" \")\n",
    "    shortest_word_length = -1\n",
    "    for word in list_form:\n",
    "        if shortest_word_length == -1 or len(word) < shortest_word_length:\n",
    "            shortest_word_length = len(word)\n",
    "    return shortest_word_length\n",
    "\n",
    "    return min([len(x) for x in strng.split(\" \")])\n"
   ]
  },
  {
   "cell_type": "code",
   "execution_count": null,
   "metadata": {},
   "outputs": [],
   "source": [
    "## Q9\n",
    "def q9(strng):\n",
    "    return chr(int(\"\".join([x for x in strng if ord(x) < 90 ])))\n"
   ]
  },
  {
   "cell_type": "code",
   "execution_count": null,
   "metadata": {},
   "outputs": [],
   "source": [
    "## Q10 \n",
    "def q1(arr):\n",
    "    for i in range(len(arr)):\n",
    "        if arr[i] + 1 != arr[i+1]:\n",
    "            return arr[i+1]\n",
    "    return None"
   ]
  }
 ],
 "metadata": {
  "kernelspec": {
   "display_name": "Python 3.8.10 64-bit",
   "language": "python",
   "name": "python3"
  },
  "language_info": {
   "codemirror_mode": {
    "name": "ipython",
    "version": 3
   },
   "file_extension": ".py",
   "mimetype": "text/x-python",
   "name": "python",
   "nbconvert_exporter": "python",
   "pygments_lexer": "ipython3",
   "version": "3.8.10"
  },
  "orig_nbformat": 4,
  "vscode": {
   "interpreter": {
    "hash": "916dbcbb3f70747c44a77c7bcd40155683ae19c65e1c03b4aa3499c5328201f1"
   }
  }
 },
 "nbformat": 4,
 "nbformat_minor": 2
}
