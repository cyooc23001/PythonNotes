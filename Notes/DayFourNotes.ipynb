{
 "cells": [
  {
   "cell_type": "markdown",
   "metadata": {},
   "source": []
  },
  {
   "cell_type": "code",
   "execution_count": 2,
   "metadata": {},
   "outputs": [
    {
     "data": {
      "text/plain": [
       "[2.0, 6.9, 12.32]"
      ]
     },
     "execution_count": 2,
     "metadata": {},
     "output_type": "execute_result"
    }
   ],
   "source": [
    "### Exercise 22\n",
    "def round_to_position(lst):\n",
    "    return [round(x, i) for i, x in enumerate(lst)]\n",
    "\n",
    "round_to_position([2.5, 6.87, 12.324])"
   ]
  },
  {
   "cell_type": "code",
   "execution_count": 5,
   "metadata": {},
   "outputs": [
    {
     "data": {
      "text/plain": [
       "'int'"
      ]
     },
     "execution_count": 5,
     "metadata": {},
     "output_type": "execute_result"
    }
   ],
   "source": [
    "## Exercise 23:\n",
    "def get_type_str(obj):\n",
    "    '''\n",
    "    Returns the type of the parameter as a string.\n",
    "    Possible types are:\n",
    "    <ul>\n",
    "      <li>string</li>\n",
    "      <li>boolean</li>\n",
    "      <li>integer</li>\n",
    "      <li>float</li>\n",
    "      <li>list</li>\n",
    "      <li>tuple</li>\n",
    "    </ul>\n",
    "    NOTE: Any other types should be identified with 'unknown'\n",
    "       \n",
    "    Args:\n",
    "        obj (?): The object that should be classified\n",
    "    Returns:\n",
    "        str : The type of the provided data\n",
    "    '''   \n",
    "    if isinstance(obj, str):\n",
    "        return \"string\" \n",
    "    elif isinstance(obj, bool):\n",
    "        return \"boolean\"\n",
    "    elif isinstance(obj, int):\n",
    "        return \"int\"\n",
    "    elif isinstance(obj, list):\n",
    "        return \"list\"\n",
    "    elif isinstance(obj, float):\n",
    "        return \"float\"\n",
    "    elif isinstance(obj, tuple):\n",
    "        return \"tuple\"\n",
    "    else:\n",
    "        return \"unknown\"\n",
    "\n",
    "get_type_str(15)\n"
   ]
  },
  {
   "cell_type": "code",
   "execution_count": null,
   "metadata": {},
   "outputs": [],
   "source": []
  }
 ],
 "metadata": {
  "kernelspec": {
   "display_name": "Python 3.8.10 64-bit",
   "language": "python",
   "name": "python3"
  },
  "language_info": {
   "codemirror_mode": {
    "name": "ipython",
    "version": 3
   },
   "file_extension": ".py",
   "mimetype": "text/x-python",
   "name": "python",
   "nbconvert_exporter": "python",
   "pygments_lexer": "ipython3",
   "version": "3.8.10"
  },
  "orig_nbformat": 4,
  "vscode": {
   "interpreter": {
    "hash": "916dbcbb3f70747c44a77c7bcd40155683ae19c65e1c03b4aa3499c5328201f1"
   }
  }
 },
 "nbformat": 4,
 "nbformat_minor": 2
}
