{
 "cells": [
  {
   "cell_type": "markdown",
   "metadata": {},
   "source": [
    "## DAY TWO - All about Branching and Conditionals!"
   ]
  },
  {
   "cell_type": "markdown",
   "metadata": {},
   "source": [
    "Side-BAR:\n",
    "Method is attached to an object. It is what an object can do!\n",
    "- name.split() is a method because .split() is attached to the string object named 'name'\n",
    "- Dot notation. No matter what, 'name' MUST be a str. \n",
    "\n",
    "A function is a stand-alone piece of code.\n",
    "- id(param) is a function. It is a stand-alone piece of code that computes on a parameter! \n",
    "- Note 'param' is the variable name. It can be an int, string, list, tuple, etc. Anything!\n",
    "\n"
   ]
  },
  {
   "cell_type": "code",
   "execution_count": 2,
   "metadata": {},
   "outputs": [
    {
     "name": "stdout",
     "output_type": "stream",
     "text": [
      "Name as List: ['Samuel', 'Joseph', 'Dorchuck']\n"
     ]
    }
   ],
   "source": [
    "## Brief Review on string methods \n",
    "\n",
    "## Split will cut on a delimiter; default delimter is \" \"\n",
    "name = \"Samuel Joseph Dorchuck\"\n",
    "split_name = name.split()\n",
    "print(f\"Name as List: {split_name}\")\n",
    "\n",
    "## join is also string method!"
   ]
  },
  {
   "cell_type": "code",
   "execution_count": 6,
   "metadata": {},
   "outputs": [
    {
     "name": "stdout",
     "output_type": "stream",
     "text": [
      "Positional: \t3.14\n",
      "Keyword: \t3123.141592\n"
     ]
    }
   ],
   "source": [
    "## Side-Bar on positional vs keyword arguments\n",
    "\n",
    "## positional\n",
    "a = \"{}.{}\".format(3, 14)\n",
    "print(f\"Positional: \\t{a}\")\n",
    "\n",
    "## keyword\n",
    "a = \"{main}.{decimal}\".format(decimal=141592, main=3123)\n",
    "print(f\"Keyword: \\t{a}\")"
   ]
  },
  {
   "cell_type": "markdown",
   "metadata": {},
   "source": [
    "### User Input!\n",
    "We can use the input function. (NOTE: It is a function because it is stand-alone).\n",
    "We can pass in a string as a parameter to the function if we would like! This is the prompt to the user!\n",
    "\n",
    "Output is easy - use the print function! Again, print is a function because it is stand-alone. "
   ]
  },
  {
   "cell_type": "code",
   "execution_count": 10,
   "metadata": {},
   "outputs": [
    {
     "name": "stdout",
     "output_type": "stream",
     "text": [
      "12349102483109273419-24321 <class 'str'>\n"
     ]
    }
   ],
   "source": [
    "a = input(\"Please enter a number: \")\n",
    "print(a, type(a)) ## NOTE: input will always read input from the user as a STRING!"
   ]
  },
  {
   "cell_type": "code",
   "execution_count": 12,
   "metadata": {},
   "outputs": [
    {
     "name": "stdout",
     "output_type": "stream",
     "text": [
      "1234125123 <class 'int'>\n"
     ]
    }
   ],
   "source": [
    "## Have to type-cast your input - say you want the user to hand you a number!\n",
    "## see how I'm calling the int() function on the input string. \n",
    "a = int(input(\"MUST BE A NUMBER, IF NOT I WILL ERROR: \"))\n",
    "print(a, type(a))"
   ]
  },
  {
   "cell_type": "code",
   "execution_count": 14,
   "metadata": {},
   "outputs": [
    {
     "name": "stdout",
     "output_type": "stream",
     "text": [
      "123+3672+234\n"
     ]
    }
   ],
   "source": [
    "## Exercise 6 - Read input from user, change all spaces to \"+\" and then print out\n",
    "\n",
    "a = input(\"\")\n",
    "b = a.split()\n",
    "final = \"+\".join(b)\n",
    "print(final)"
   ]
  },
  {
   "cell_type": "code",
   "execution_count": 17,
   "metadata": {},
   "outputs": [
    {
     "name": "stdout",
     "output_type": "stream",
     "text": [
      "Positive Odd\n"
     ]
    }
   ],
   "source": [
    "## Exercise 7 - print out integer value for certain strings!\n",
    "a = 11\n",
    "if a == 0:\n",
    "    print(\"Zero\")\n",
    "elif a % 2 == 0: \n",
    "    if a < 0: \n",
    "        print(\"Negative Even\")\n",
    "    else:\n",
    "        print(\"Positive Even\")\n",
    "else:\n",
    "    if a < 0:\n",
    "        print(\"Negative Odd\")\n",
    "    else:\n",
    "        print(\"Positive Odd\")"
   ]
  },
  {
   "cell_type": "markdown",
   "metadata": {},
   "source": [
    "### Flow Control - One of the MAJOR IDEAS of programming\n",
    "##### Indentation Matters Now!\n",
    "Starting with Branching!"
   ]
  },
  {
   "cell_type": "markdown",
   "metadata": {},
   "source": [
    "Control Flow as a Flow Chart\n",
    "\n",
    "![Example of control flow in basic terminology](control_flow.png)"
   ]
  },
  {
   "cell_type": "markdown",
   "metadata": {},
   "source": [
    "Here's the key idea of branching - we evaluate a condition. If the condition is True, we execute one block of code. If the condition is NOT True, do not execute that block of code!\n",
    "\n"
   ]
  },
  {
   "cell_type": "markdown",
   "metadata": {},
   "source": [
    "Keywords:\n",
    "- **if**\n",
    "    * IF condition is TRUE, execute the code block\n",
    "    * IF the condition is FALSE, do NOT execute the code block  \n",
    "&nbsp;\n",
    "- **elif** (Short for \"else if\")\n",
    "    * Can ONLY follow an **if** or an **elif** statement\n",
    "    * SAME EXACT BEHAVIOR AS AN IF statement\n",
    "    * If condition is TRUE, execute the code block\n",
    "    * If condition is FALSE, do NOT execute the code block\n",
    "&nbsp; \n",
    "- **else**\n",
    "    * ONLY IF no prior if/elif in this Branch has evaluated to True, THEN we will EXECUTE. \n",
    "    * Alternative phrasing: Every prior if/elif in this branch has evaluated to False, then we execute."
   ]
  },
  {
   "cell_type": "markdown",
   "metadata": {},
   "source": [
    "More Keywords:\n",
    "* (a) and (b) - Only true if and only if both a and b are BOTH true.\n",
    "\n",
    "* (a) or (b) - True if EITHER (a) OR (b) is true (This includes case when both are true)\n",
    "\n",
    "* not(a) - True only if a is False\n",
    "\n",
    "Examine the Truth Tables below. Must memorize. 0 means False and 1 means True\n",
    "\n",
    "![](truth_tables.jpg)\n"
   ]
  },
  {
   "cell_type": "code",
   "execution_count": 20,
   "metadata": {},
   "outputs": [],
   "source": [
    "## Exercise 9 - FizzBuzz problem!\n",
    "a = int(input())\n",
    "if a % 3 == 0 and a % 5 ==0:\n",
    "    print(\"fizzbuzz\")\n",
    "elif a %3 == 0:\n",
    "    print(\"fizz\")\n",
    "elif a % 5 == 0:\n",
    "    print(\"buzz\")\n",
    "else:\n",
    "    print(a)"
   ]
  },
  {
   "cell_type": "markdown",
   "metadata": {},
   "source": [
    "## Functions\n",
    "Very simply - functions are a way of encapsulating a block of code so that we can run it again and again!"
   ]
  },
  {
   "cell_type": "code",
   "execution_count": 1,
   "metadata": {},
   "outputs": [],
   "source": [
    "## Structure of a function definition\n",
    "def multiply(x, y):\n",
    "    return x * y \n",
    "## Obviously, this is a one-line function which is kinda dumb. But it's to illustrate the concepts and key words. Bear with me. "
   ]
  },
  {
   "cell_type": "markdown",
   "metadata": {},
   "source": [
    "![](function.png)\n",
    "\n",
    "Pieces of a function \n",
    "\n",
    "* **def** key word --> Tells the Python interpreter this is a function\n",
    "* *fahr_to_celsuis* is the function name. YOU CHOOSE THIS!\n",
    "* *temp* is one of the parameter names: You choose these! Think of these as INPUTS to the function. \n",
    "* body is where the ACTUAL code lives that will execute when you call the function.\n",
    "* **return** keyword "
   ]
  },
  {
   "cell_type": "code",
   "execution_count": 3,
   "metadata": {},
   "outputs": [
    {
     "name": "stdout",
     "output_type": "stream",
     "text": [
      "6\n"
     ]
    }
   ],
   "source": [
    "## How to call a function! x and y are the PARAMETERS. This function RETURNS a value so we need to catch it. \n",
    "z = multiply(2, 3)\n",
    "print(z)"
   ]
  },
  {
   "cell_type": "markdown",
   "metadata": {},
   "source": [
    "## Loops\n",
    "Fundamentally, loops repeat the same block of code! \n",
    "\n",
    "Types:\n",
    "* **while** loops: \n",
    "    - Used when we don't know exactly how many iterations our code will execute\n",
    "    - Also used when we don't have an object to iterate over\n",
    "    - We simply loop until some condition becomes False!\n",
    "* **for** loops:\n",
    "    - Used when we know exactly how many times we want to iterate\n",
    "    - Also used when we want to iterate OVER an object such as a string, list, tuple, etc\n",
    "    - We simply loop a set number of times (ex: loop one time for each element in a list)\n",
    "\n",
    "For this class - we will iterate over lists, ranges, and strings!\n",
    "See below for some examples!"
   ]
  },
  {
   "cell_type": "code",
   "execution_count": 4,
   "metadata": {},
   "outputs": [
    {
     "name": "stdout",
     "output_type": "stream",
     "text": [
      "While Loop\n",
      "4\n",
      "3\n",
      "2\n",
      "1\n",
      "\n",
      "\n",
      " For Loop\n",
      "0\n",
      "1\n",
      "2\n",
      "3\n",
      "\n",
      "\n",
      " For loop over String\n",
      "M\n",
      "a\n",
      "r\n",
      "i\n",
      "n\n",
      "e\n",
      " \n",
      "C\n",
      "o\n",
      "r\n",
      "p\n",
      "s\n"
     ]
    }
   ],
   "source": [
    "## While loop example\n",
    "x = 4\n",
    "print(\"While Loop\")\n",
    "while x > 0:\n",
    "    print(x)\n",
    "    x -= 1\n",
    "\n",
    "\n",
    "## for loop example that does very similar thing\n",
    "print(\"\\n\\n For Loop\")\n",
    "for i in range(4): ## range(4) just makes a list that looks like [0, 1, 2, 3]\n",
    "    print(i)\n",
    "\n",
    "## for loop over a string\n",
    "print(\"\\n\\n For loop over String\")\n",
    "best_org_in_the_world = \"Marine Corps\"\n",
    "for let in best_org_in_the_world:\n",
    "    print(let)"
   ]
  },
  {
   "cell_type": "markdown",
   "metadata": {},
   "source": [
    "#### Now brief examination of how range works\n",
    "Think of range() as producing a list of integers!\\\n",
    "SYNTAX: range(*start*, *end*, *step_size*)\n",
    "\n",
    "We include the start. We do not include the end! Python is weird, but this is the same rule as slicing a string/list (remember from Day One!)"
   ]
  },
  {
   "cell_type": "code",
   "execution_count": 17,
   "metadata": {},
   "outputs": [
    {
     "name": "stdout",
     "output_type": "stream",
     "text": [
      "Range with just start: \t\t\t[0, 1, 2, 3, 4]\n",
      "Range with start and end: \t\t[2, 3, 4, 5, 6, 7]\n",
      "Range with start, end, and step size: \t[3, 7, 11, 15]\n"
     ]
    }
   ],
   "source": [
    "## Just with end\n",
    "a = list(range(5))\n",
    "print(f\"Range with just start: \\t\\t\\t{a}\") ## Default start is 0! Default step size is 1.\n",
    "\n",
    "b = list(range(2, 8)) ## Default step size is 1. \n",
    "print(f\"Range with start and end: \\t\\t{b}\")\n",
    "\n",
    "c = list(range(3, 19, 4)) ## Step size of 4\n",
    "print(f\"Range with start, end, and step size: \\t{c}\")"
   ]
  },
  {
   "cell_type": "markdown",
   "metadata": {},
   "source": [
    "#### Some Important Loop Key words!\n",
    "\n",
    "* **break** \n",
    "    - This is the keyword that says JUMP out of this loop!\n",
    "\n",
    "* **continue**\n",
    "    - This is the keyword that says JUMP back to the beginning of the loop and continue iterating!\n",
    "\n",
    "These are relatively advanced commands. I did not meet these commands until nearly 8 weeks into my first Intro to Python course in college (and I did Python for about a year in high school). They will take some time to understand - stick with it and try to get some reps. "
   ]
  },
  {
   "cell_type": "code",
   "execution_count": 5,
   "metadata": {},
   "outputs": [
    {
     "name": "stdout",
     "output_type": "stream",
     "text": [
      "hello\n",
      "goodbye\n",
      "semper\n",
      "oorah\n",
      "DONE!\n"
     ]
    }
   ],
   "source": [
    "## Example of break\n",
    "\n",
    "words = [\"hello\", \"goodbye\", \"semper\", \"oorah\", \"stop\", \"army\", \"rangers lead the way\"]\n",
    "for word in words:\n",
    "    if word == \"stop\":\n",
    "        break ## JUMP OUT of this loop!\n",
    "    print(word)\n",
    "\n",
    "print(\"DONE!\")"
   ]
  },
  {
   "cell_type": "code",
   "execution_count": 7,
   "metadata": {},
   "outputs": [
    {
     "name": "stdout",
     "output_type": "stream",
     "text": [
      "hello\n",
      "goodbye\n",
      "semper\n",
      "oorah\n",
      "army\n",
      "rangers lead the way\n",
      "DONE!\n"
     ]
    }
   ],
   "source": [
    "## Example of continue\n",
    "words = [\"hello\", \"goodbye\", \"semper\", \"oorah\", \"stop\", \"army\", \"rangers lead the way\"]\n",
    "for word in words:\n",
    "    if word == \"stop\":\n",
    "        continue ## JUMP to the beginning of the loop and continue iterating\n",
    "    print(word)\n",
    "\n",
    "print(\"DONE!\")"
   ]
  },
  {
   "cell_type": "code",
   "execution_count": null,
   "metadata": {},
   "outputs": [],
   "source": []
  },
  {
   "cell_type": "markdown",
   "metadata": {},
   "source": [
    "## List Comprehensions\n",
    "Last topic for Day Two! Let's goooooooOOO!\n",
    "\n",
    "First, you never NEED to use list comprehensions. They are really handy and look nice and make you feel cool. But, you can always use a simpler, easier-to-understand series of loops. A list comprehension is just a short-hand way of doing loops. It may take a minute to understand what is going on here - it took me a whole semester before I felt comfortable writing list comprehensions. \n",
    "\n",
    "Syntax: name = [valueExpression for controlVariable in iterator whereClause]\n",
    "\n",
    "Very confusing, I know. Some examples will help elucidate. "
   ]
  },
  {
   "cell_type": "code",
   "execution_count": 22,
   "metadata": {},
   "outputs": [
    {
     "name": "stdout",
     "output_type": "stream",
     "text": [
      "List Comprehension: \t[5, 15, 25, 35, 45, 55, 65, 75, 85, 95]\n",
      "Normal Loop Version: \t[5, 15, 25, 35, 45, 55, 65, 75, 85, 95]\n"
     ]
    }
   ],
   "source": [
    "## 1st Way:\n",
    "## List comprehension version\n",
    "fives = [x for x in range(0, 100, 5) if x%2 == 1]\n",
    "print(f\"List Comprehension: \\t{fives}\")\n",
    "\n",
    "\n",
    "## 2nd Way:\n",
    "## Simpler, more intuitive version\n",
    "fives_again = []\n",
    "for x in range(0, 100, 5):\n",
    "    if x % 2 == 1:\n",
    "        fives_again.append(x)\n",
    "print(f\"Normal Loop Version: \\t{fives_again}\")\n",
    "\n",
    "## See! They do the exact same thing. I think the second way is much easier/more fundamental to understand\n",
    "## I would recommend REALLY understanding the second example. If you get the second example, that's good!\n",
    "## If you want, try to understand the list comprehension. If not, no worries; as long as you REALLY know\n",
    "## the second way to do it. "
   ]
  },
  {
   "cell_type": "code",
   "execution_count": 24,
   "metadata": {},
   "outputs": [
    {
     "name": "stdout",
     "output_type": "stream",
     "text": [
      "too high\n",
      "WIN\n"
     ]
    }
   ],
   "source": [
    "## Exercise 00B\n",
    "def guess_number(n):\n",
    "    while True:\n",
    "        a = int(input())\n",
    "\n",
    "        if a == n:\n",
    "            print(\"WIN\")\n",
    "            return\n",
    "        elif a < n:\n",
    "            print(\"too low\")\n",
    "        elif a > n:\n",
    "            print(\"too high\")\n",
    "\n",
    "guess_number(23)\n"
   ]
  },
  {
   "cell_type": "code",
   "execution_count": 33,
   "metadata": {},
   "outputs": [
    {
     "name": "stdout",
     "output_type": "stream",
     "text": [
      "['ymmas', 'olleg']\n"
     ]
    }
   ],
   "source": [
    "### Exercise 9\n",
    "\n",
    "def reverseit():\n",
    "    inp = input()\n",
    "    lines = []\n",
    "    while inp:\n",
    "        lines.append(inp)\n",
    "        inp = input()\n",
    "    \n",
    "    final = []\n",
    "    for line in lines:\n",
    "        new_line = line[::-1]\n",
    "        final.append(new_line)\n",
    "    # final.reverse()\n",
    "    return final\n",
    "    \n",
    "\n",
    "a = reverseit()\n",
    "print(a)"
   ]
  },
  {
   "cell_type": "code",
   "execution_count": 27,
   "metadata": {},
   "outputs": [
    {
     "name": "stdout",
     "output_type": "stream",
     "text": [
      "AbCdEf gHiJkL\n"
     ]
    }
   ],
   "source": [
    "## Exercise 10\n",
    "def leetString(s):\n",
    "    s_list = list(s)\n",
    "    for i in range(len(s_list)):\n",
    "        if i % 2 == 0:\n",
    "            new_char = s_list[i].upper()\n",
    "        else:\n",
    "            new_char= s_list[i].lower()\n",
    "        s_list[i] = new_char\n",
    "    return \"\".join(s_list)\n",
    "\n",
    "a =  \"ABCDEF ghijkl\" \n",
    "print(leetString(a))"
   ]
  },
  {
   "cell_type": "code",
   "execution_count": null,
   "metadata": {},
   "outputs": [],
   "source": [
    "## Exercise 11\n",
    "def evensandodds(first, last):\n",
    "    for i in range(first, last+1):\n",
    "        if i % 2 == 0:\n",
    "            print(i)\n",
    "    for i in range(first, last+1):\n",
    "        if i % 2 == 1:\n",
    "            print(i)    \n"
   ]
  },
  {
   "cell_type": "code",
   "execution_count": null,
   "metadata": {},
   "outputs": [],
   "source": [
    "## Exercise 12 is LITERALLY a simpler version of Exercise 9...."
   ]
  }
 ],
 "metadata": {
  "kernelspec": {
   "display_name": "Python 3.8.10 64-bit",
   "language": "python",
   "name": "python3"
  },
  "language_info": {
   "codemirror_mode": {
    "name": "ipython",
    "version": 3
   },
   "file_extension": ".py",
   "mimetype": "text/x-python",
   "name": "python",
   "nbconvert_exporter": "python",
   "pygments_lexer": "ipython3",
   "version": "3.8.10"
  },
  "orig_nbformat": 4,
  "vscode": {
   "interpreter": {
    "hash": "916dbcbb3f70747c44a77c7bcd40155683ae19c65e1c03b4aa3499c5328201f1"
   }
  }
 },
 "nbformat": 4,
 "nbformat_minor": 2
}
