{
 "cells": [
  {
   "cell_type": "markdown",
   "metadata": {},
   "source": [
    "## DAY TWO - All about Branching and Conditionals!"
   ]
  },
  {
   "cell_type": "markdown",
   "metadata": {},
   "source": [
    "Side-BAR:\n",
    "Method is attached to an object. It is what an object can do!\n",
    "- name.split() is a method because .split() is attached to the string object named 'name'\n",
    "- Dot notation. No matter what, 'name' MUST be a str. \n",
    "\n",
    "A function is a stand-alone piece of code.\n",
    "- id(param) is a function. It is a stand-alone piece of code that computes on a parameter! \n",
    "- Note 'param' is the variable name. It can be an int, string, list, tuple, etc. Anything!\n",
    "\n"
   ]
  },
  {
   "cell_type": "code",
   "execution_count": 2,
   "metadata": {},
   "outputs": [
    {
     "name": "stdout",
     "output_type": "stream",
     "text": [
      "Name as List: ['Samuel', 'Joseph', 'Dorchuck']\n"
     ]
    }
   ],
   "source": [
    "## Brief Review on string methods \n",
    "\n",
    "## Split will cut on a delimiter; default delimter is \" \"\n",
    "name = \"Samuel Joseph Dorchuck\"\n",
    "split_name = name.split()\n",
    "print(f\"Name as List: {split_name}\")\n",
    "\n",
    "## join is also string method!"
   ]
  },
  {
   "cell_type": "code",
   "execution_count": 6,
   "metadata": {},
   "outputs": [
    {
     "name": "stdout",
     "output_type": "stream",
     "text": [
      "Positional: \t3.14\n",
      "Keyword: \t3123.141592\n"
     ]
    }
   ],
   "source": [
    "## Side-Bar on positional vs keyword arguments\n",
    "\n",
    "## positional\n",
    "a = \"{}.{}\".format(3, 14)\n",
    "print(f\"Positional: \\t{a}\")\n",
    "\n",
    "## keyword\n",
    "a = \"{main}.{decimal}\".format(decimal=141592, main=3123)\n",
    "print(f\"Keyword: \\t{a}\")"
   ]
  },
  {
   "cell_type": "markdown",
   "metadata": {},
   "source": [
    "### User Input!\n",
    "We can use the input function. (NOTE: It is a function because it is stand-alone).\n",
    "We can pass in a string as a parameter to the function if we would like! This is the prompt to the user!\n",
    "\n",
    "Output is easy - use the print function! Again, print is a function because it is stand-alone. "
   ]
  },
  {
   "cell_type": "code",
   "execution_count": 10,
   "metadata": {},
   "outputs": [
    {
     "name": "stdout",
     "output_type": "stream",
     "text": [
      "12349102483109273419-24321 <class 'str'>\n"
     ]
    }
   ],
   "source": [
    "a = input(\"Please enter a number: \")\n",
    "print(a, type(a)) ## NOTE: input will always read input from the user as a STRING!"
   ]
  },
  {
   "cell_type": "code",
   "execution_count": 12,
   "metadata": {},
   "outputs": [
    {
     "name": "stdout",
     "output_type": "stream",
     "text": [
      "1234125123 <class 'int'>\n"
     ]
    }
   ],
   "source": [
    "## Have to type-cast your input - say you want the user to hand you a number!\n",
    "## see how I'm calling the int() function on the input string. \n",
    "a = int(input(\"MUST BE A NUMBER, IF NOT I WILL ERROR: \"))\n",
    "print(a, type(a))"
   ]
  },
  {
   "cell_type": "code",
   "execution_count": 14,
   "metadata": {},
   "outputs": [
    {
     "name": "stdout",
     "output_type": "stream",
     "text": [
      "123+3672+234\n"
     ]
    }
   ],
   "source": [
    "## Exercise 6 - Read input from user, change all spaces to \"+\" and then print out\n",
    "\n",
    "a = input(\"\")\n",
    "b = a.split()\n",
    "final = \"+\".join(b)\n",
    "print(final)"
   ]
  },
  {
   "cell_type": "code",
   "execution_count": 17,
   "metadata": {},
   "outputs": [
    {
     "name": "stdout",
     "output_type": "stream",
     "text": [
      "Positive Odd\n"
     ]
    }
   ],
   "source": [
    "## Exercise 7 - print out integer value for certain strings!\n",
    "a = 11\n",
    "if a == 0:\n",
    "    print(\"Zero\")\n",
    "elif a % 2 == 0: \n",
    "    if a < 0: \n",
    "        print(\"Negative Even\")\n",
    "    else:\n",
    "        print(\"Positive Even\")\n",
    "else:\n",
    "    if a < 0:\n",
    "        print(\"Negative Odd\")\n",
    "    else:\n",
    "        print(\"Positive Odd\")"
   ]
  },
  {
   "cell_type": "markdown",
   "metadata": {},
   "source": [
    "### Flow Control - One of the MAJOR IDEAS of programming\n",
    "##### Indentation Matters Now!\n",
    "Starting with Branching!"
   ]
  },
  {
   "cell_type": "markdown",
   "metadata": {},
   "source": [
    "Control Flow as a Flow Chart\n",
    "\n",
    "![Example of control flow in basic terminology](control_flow.png)"
   ]
  },
  {
   "cell_type": "markdown",
   "metadata": {},
   "source": [
    "Here's the key idea of branching - we evaluate a condition. If the condition is True, we execute one block of code. If the condition is NOT True, do not execute that block of code!\n",
    "\n"
   ]
  },
  {
   "cell_type": "markdown",
   "metadata": {},
   "source": [
    "Keywords:\n",
    "- **if**\n",
    "    * IF condition is TRUE, execute the code block\n",
    "    * IF the condition is FALSE, do NOT execute the code block  \n",
    "&nbsp;\n",
    "- **elif** (Short for \"else if\")\n",
    "    * Can ONLY follow an **if** or an **elif** statement\n",
    "    * SAME EXACT BEHAVIOR AS AN IF statement\n",
    "    * If condition is TRUE, execute the code block\n",
    "    * If condition is FALSE, do NOT execute the code block\n",
    "&nbsp; \n",
    "- **else**\n",
    "    * ONLY IF no prior if/elif in this Branch has evaluated to True, THEN we will EXECUTE. \n",
    "    * Alternative phrasing: Every prior if/elif in this branch has evaluated to False, then we execute."
   ]
  },
  {
   "cell_type": "markdown",
   "metadata": {},
   "source": [
    "More Keywords:\n",
    "* (a) and (b) - Only true if and only if both a and b are BOTH true.\n",
    "\n",
    "* (a) or (b) - True if EITHER (a) OR (b) is true (This includes case when both are true)\n",
    "\n",
    "* not(a) - True only if a is False\n",
    "\n",
    "Examine the Truth Tables below. Must memorize. 0 means False and 1 means True\n",
    "\n",
    "![](truth_tables.jpg)\n"
   ]
  },
  {
   "cell_type": "markdown",
   "metadata": {},
   "source": []
  }
 ],
 "metadata": {
  "kernelspec": {
   "display_name": "Python 3.8.10 64-bit",
   "language": "python",
   "name": "python3"
  },
  "language_info": {
   "codemirror_mode": {
    "name": "ipython",
    "version": 3
   },
   "file_extension": ".py",
   "mimetype": "text/x-python",
   "name": "python",
   "nbconvert_exporter": "python",
   "pygments_lexer": "ipython3",
   "version": "3.8.10"
  },
  "orig_nbformat": 4,
  "vscode": {
   "interpreter": {
    "hash": "916dbcbb3f70747c44a77c7bcd40155683ae19c65e1c03b4aa3499c5328201f1"
   }
  }
 },
 "nbformat": 4,
 "nbformat_minor": 2
}
